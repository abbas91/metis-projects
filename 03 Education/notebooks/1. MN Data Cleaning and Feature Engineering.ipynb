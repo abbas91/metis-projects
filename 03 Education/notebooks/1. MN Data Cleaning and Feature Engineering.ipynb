{
 "cells": [
  {
   "cell_type": "markdown",
   "metadata": {},
   "source": [
    "### This was an attempt at putting together a smaller subset of data for just MN. I did find college attendence rates that I had hoped to join with the national school data. The problem of matching on a string again arose. "
   ]
  },
  {
   "cell_type": "code",
   "execution_count": 6,
   "metadata": {
    "collapsed": true
   },
   "outputs": [],
   "source": [
    "%matplotlib inline\n",
    "\n",
    "from __future__ import print_function\n",
    "from statsmodels.compat import lzip\n",
    "import statsmodels\n",
    "import numpy as np\n",
    "import pandas as pd\n",
    "import statsmodels.api as sm\n",
    "import statsmodels.formula.api as smf\n",
    "import statsmodels.stats.api as sms\n",
    "import matplotlib.pyplot as plt\n",
    "from scipy import stats\n",
    "import pickle\n",
    "\n",
    "from statsmodels.stats.outliers_influence import OLSInfluence"
   ]
  },
  {
   "cell_type": "markdown",
   "metadata": {},
   "source": [
    "### Steps:\n",
    "#### 1. Subset out features of interest\n",
    "#### 2. Clean unprocessable values ('-', 'N/A', etc)\n",
    "#### 3. Format column data types\n",
    "#### 4. Create new features\n",
    "#### 5. Fill empty values with NANs\n",
    "#### 6. Drop outliers\n",
    "#### 7. Join datasets\n",
    "#### 8. Subset out features of interst (2)\n",
    "#### 9. Transform*\n",
    "#### 10. Create dummy variables*"
   ]
  },
  {
   "cell_type": "code",
   "execution_count": 4,
   "metadata": {
    "collapsed": false
   },
   "outputs": [
    {
     "name": "stdout",
     "output_type": "stream",
     "text": [
      "(1212, 24)\n"
     ]
    },
    {
     "data": {
      "text/html": [
       "<div>\n",
       "<table border=\"1\" class=\"dataframe\">\n",
       "  <thead>\n",
       "    <tr style=\"text-align: right;\">\n",
       "      <th></th>\n",
       "      <th>dat_yer</th>\n",
       "      <th>dst_num</th>\n",
       "      <th>dst_tye</th>\n",
       "      <th>dst_nam</th>\n",
       "      <th>sch_num</th>\n",
       "      <th>sch_nam</th>\n",
       "      <th>ami_mal</th>\n",
       "      <th>ami_fem</th>\n",
       "      <th>api_mal</th>\n",
       "      <th>api_fem</th>\n",
       "      <th>...</th>\n",
       "      <th>wht_mal</th>\n",
       "      <th>wht_fem</th>\n",
       "      <th>tot_mal</th>\n",
       "      <th>tot_fem</th>\n",
       "      <th>tot_mny</th>\n",
       "      <th>tot_tot</th>\n",
       "      <th>cou_num</th>\n",
       "      <th>cou_nam</th>\n",
       "      <th>sch_cls</th>\n",
       "      <th>eco_dev</th>\n",
       "    </tr>\n",
       "  </thead>\n",
       "  <tbody>\n",
       "    <tr>\n",
       "      <th>0</th>\n",
       "      <td>14-15</td>\n",
       "      <td>1.0</td>\n",
       "      <td>1.0</td>\n",
       "      <td>AITKIN PUBLIC SCHOOL DISTRICT</td>\n",
       "      <td>1.0</td>\n",
       "      <td>AITKIN SECONDARY SCHOOL</td>\n",
       "      <td>0.0</td>\n",
       "      <td>0.0</td>\n",
       "      <td>0.0</td>\n",
       "      <td>0.0</td>\n",
       "      <td>...</td>\n",
       "      <td>36.0</td>\n",
       "      <td>43.0</td>\n",
       "      <td>37.0</td>\n",
       "      <td>44.0</td>\n",
       "      <td>2.0</td>\n",
       "      <td>81.0</td>\n",
       "      <td>01</td>\n",
       "      <td>Aitkin</td>\n",
       "      <td>33</td>\n",
       "      <td>03</td>\n",
       "    </tr>\n",
       "    <tr>\n",
       "      <th>1</th>\n",
       "      <td>14-15</td>\n",
       "      <td>1.0</td>\n",
       "      <td>1.0</td>\n",
       "      <td>AITKIN PUBLIC SCHOOL DISTRICT</td>\n",
       "      <td>6.0</td>\n",
       "      <td>AITKIN ALTERNATIVE LEARNING PROGRAM</td>\n",
       "      <td>0.0</td>\n",
       "      <td>0.0</td>\n",
       "      <td>0.0</td>\n",
       "      <td>0.0</td>\n",
       "      <td>...</td>\n",
       "      <td>1.0</td>\n",
       "      <td>3.0</td>\n",
       "      <td>1.0</td>\n",
       "      <td>3.0</td>\n",
       "      <td>0.0</td>\n",
       "      <td>4.0</td>\n",
       "      <td>01</td>\n",
       "      <td>Aitkin</td>\n",
       "      <td>42</td>\n",
       "      <td>03</td>\n",
       "    </tr>\n",
       "    <tr>\n",
       "      <th>2</th>\n",
       "      <td>14-15</td>\n",
       "      <td>1.0</td>\n",
       "      <td>1.0</td>\n",
       "      <td>AITKIN PUBLIC SCHOOL DISTRICT</td>\n",
       "      <td>0.0</td>\n",
       "      <td>District Totals</td>\n",
       "      <td>0.0</td>\n",
       "      <td>0.0</td>\n",
       "      <td>0.0</td>\n",
       "      <td>0.0</td>\n",
       "      <td>...</td>\n",
       "      <td>37.0</td>\n",
       "      <td>46.0</td>\n",
       "      <td>38.0</td>\n",
       "      <td>47.0</td>\n",
       "      <td>2.0</td>\n",
       "      <td>85.0</td>\n",
       "      <td>01</td>\n",
       "      <td>Aitkin</td>\n",
       "      <td></td>\n",
       "      <td>03</td>\n",
       "    </tr>\n",
       "    <tr>\n",
       "      <th>3</th>\n",
       "      <td>14-15</td>\n",
       "      <td>1.0</td>\n",
       "      <td>3.0</td>\n",
       "      <td>MINNEAPOLIS PUBLIC SCHOOL DIST.</td>\n",
       "      <td>307.0</td>\n",
       "      <td>BASIC SKILLS-4</td>\n",
       "      <td>0.0</td>\n",
       "      <td>1.0</td>\n",
       "      <td>3.0</td>\n",
       "      <td>3.0</td>\n",
       "      <td>...</td>\n",
       "      <td>16.0</td>\n",
       "      <td>9.0</td>\n",
       "      <td>46.0</td>\n",
       "      <td>39.0</td>\n",
       "      <td>60.0</td>\n",
       "      <td>85.0</td>\n",
       "      <td>27</td>\n",
       "      <td>Hennepin</td>\n",
       "      <td>41</td>\n",
       "      <td>11</td>\n",
       "    </tr>\n",
       "    <tr>\n",
       "      <th>4</th>\n",
       "      <td>14-15</td>\n",
       "      <td>1.0</td>\n",
       "      <td>3.0</td>\n",
       "      <td>MINNEAPOLIS PUBLIC SCHOOL DIST.</td>\n",
       "      <td>348.0</td>\n",
       "      <td>MERC</td>\n",
       "      <td>0.0</td>\n",
       "      <td>0.0</td>\n",
       "      <td>0.0</td>\n",
       "      <td>0.0</td>\n",
       "      <td>...</td>\n",
       "      <td>1.0</td>\n",
       "      <td>0.0</td>\n",
       "      <td>13.0</td>\n",
       "      <td>9.0</td>\n",
       "      <td>21.0</td>\n",
       "      <td>22.0</td>\n",
       "      <td>27</td>\n",
       "      <td>Hennepin</td>\n",
       "      <td>43</td>\n",
       "      <td>11</td>\n",
       "    </tr>\n",
       "  </tbody>\n",
       "</table>\n",
       "<p>5 rows × 24 columns</p>\n",
       "</div>"
      ],
      "text/plain": [
       "  dat_yer  dst_num  dst_tye                              dst_nam  sch_num  \\\n",
       "0   14-15      1.0      1.0  AITKIN PUBLIC SCHOOL DISTRICT            1.0   \n",
       "1   14-15      1.0      1.0  AITKIN PUBLIC SCHOOL DISTRICT            6.0   \n",
       "2   14-15      1.0      1.0  AITKIN PUBLIC SCHOOL DISTRICT            0.0   \n",
       "3   14-15      1.0      3.0  MINNEAPOLIS PUBLIC SCHOOL DIST.        307.0   \n",
       "4   14-15      1.0      3.0  MINNEAPOLIS PUBLIC SCHOOL DIST.        348.0   \n",
       "\n",
       "                               sch_nam  ami_mal  ami_fem  api_mal  api_fem  \\\n",
       "0  AITKIN SECONDARY SCHOOL                  0.0      0.0      0.0      0.0   \n",
       "1  AITKIN ALTERNATIVE LEARNING PROGRAM      0.0      0.0      0.0      0.0   \n",
       "2                      District Totals      0.0      0.0      0.0      0.0   \n",
       "3  BASIC SKILLS-4                           0.0      1.0      3.0      3.0   \n",
       "4  MERC                                     0.0      0.0      0.0      0.0   \n",
       "\n",
       "    ...     wht_mal  wht_fem  tot_mal  tot_fem  tot_mny  tot_tot  cou_num  \\\n",
       "0   ...        36.0     43.0     37.0     44.0      2.0     81.0       01   \n",
       "1   ...         1.0      3.0      1.0      3.0      0.0      4.0       01   \n",
       "2   ...        37.0     46.0     38.0     47.0      2.0     85.0       01   \n",
       "3   ...        16.0      9.0     46.0     39.0     60.0     85.0       27   \n",
       "4   ...         1.0      0.0     13.0      9.0     21.0     22.0       27   \n",
       "\n",
       "                                         cou_nam  sch_cls  eco_dev  \n",
       "0  Aitkin                                              33      03   \n",
       "1  Aitkin                                              42      03   \n",
       "2  Aitkin                                                      03   \n",
       "3  Hennepin                                            41      11   \n",
       "4  Hennepin                                            43      11   \n",
       "\n",
       "[5 rows x 24 columns]"
      ]
     },
     "execution_count": 4,
     "metadata": {},
     "output_type": "execute_result"
    }
   ],
   "source": [
    "mn_import_df = pd.read_csv('../data/interim/2014-2015 Graduates.csv')\n",
    "print(mn_import_df.shape)\n",
    "mn_import_df.head()"
   ]
  },
  {
   "cell_type": "code",
   "execution_count": 49,
   "metadata": {
    "collapsed": false
   },
   "outputs": [
    {
     "name": "stdout",
     "output_type": "stream",
     "text": [
      "(18114, 59)\n"
     ]
    },
    {
     "data": {
      "text/html": [
       "<div>\n",
       "<table border=\"1\" class=\"dataframe\">\n",
       "  <thead>\n",
       "    <tr style=\"text-align: right;\">\n",
       "      <th></th>\n",
       "      <th>school_name</th>\n",
       "      <th>state_name</th>\n",
       "      <th>state</th>\n",
       "      <th>school_name_cl</th>\n",
       "      <th>school_id</th>\n",
       "      <th>agency_id</th>\n",
       "      <th>county_name</th>\n",
       "      <th>county_number</th>\n",
       "      <th>fips_state_code</th>\n",
       "      <th>school_level_code</th>\n",
       "      <th>...</th>\n",
       "      <th>hawaiian_nat_pacific_isl_students</th>\n",
       "      <th>two_or_more_races_students</th>\n",
       "      <th>total_race_ethnicity</th>\n",
       "      <th>male_students</th>\n",
       "      <th>female_students</th>\n",
       "      <th>agency_type_dis_x</th>\n",
       "      <th>school_type_x</th>\n",
       "      <th>state_school_id_x</th>\n",
       "      <th>congressional_code_x</th>\n",
       "      <th>reconstituted_flag</th>\n",
       "    </tr>\n",
       "  </thead>\n",
       "  <tbody>\n",
       "    <tr>\n",
       "      <th>1</th>\n",
       "      <td>1050 ADAIR CO. HIGH</td>\n",
       "      <td>Missouri</td>\n",
       "      <td>MO</td>\n",
       "      <td>ADAIR CO. HIGH</td>\n",
       "      <td>290579000125</td>\n",
       "      <td>2905790</td>\n",
       "      <td>ADAIR COUNTY</td>\n",
       "      <td>29001</td>\n",
       "      <td>29</td>\n",
       "      <td>3-High</td>\n",
       "      <td>...</td>\n",
       "      <td>=\"0\"</td>\n",
       "      <td>2</td>\n",
       "      <td>†</td>\n",
       "      <td>41</td>\n",
       "      <td>51</td>\n",
       "      <td>1-Regular local school district that is NOT a ...</td>\n",
       "      <td>1-Regular school</td>\n",
       "      <td>1050001092</td>\n",
       "      <td>2906</td>\n",
       "      <td>2-No</td>\n",
       "    </tr>\n",
       "    <tr>\n",
       "      <th>2</th>\n",
       "      <td>112 ALC AFTER SCHOOL &amp; SUMMER SCH</td>\n",
       "      <td>Minnesota</td>\n",
       "      <td>MN</td>\n",
       "      <td>112 ALC AFTER SCHOOL &amp; SUMMER SCH</td>\n",
       "      <td>270819004415</td>\n",
       "      <td>2708190</td>\n",
       "      <td>CARVER COUNTY</td>\n",
       "      <td>27019</td>\n",
       "      <td>27</td>\n",
       "      <td>3-High</td>\n",
       "      <td>...</td>\n",
       "      <td>=\"0\"</td>\n",
       "      <td>1</td>\n",
       "      <td>†</td>\n",
       "      <td>10</td>\n",
       "      <td>2</td>\n",
       "      <td>1-Regular local school district that is NOT a ...</td>\n",
       "      <td>4-Alternative/other school</td>\n",
       "      <td>=\"010112067\"</td>\n",
       "      <td>2703</td>\n",
       "      <td>2-No</td>\n",
       "    </tr>\n",
       "    <tr>\n",
       "      <th>7</th>\n",
       "      <td>21ST CENTURY ACADEMY</td>\n",
       "      <td>Kentucky</td>\n",
       "      <td>KY</td>\n",
       "      <td>21st Century Academy</td>\n",
       "      <td>210115002241</td>\n",
       "      <td>2101150</td>\n",
       "      <td>CHRISTIAN COUNTY</td>\n",
       "      <td>21047</td>\n",
       "      <td>21</td>\n",
       "      <td>3-High</td>\n",
       "      <td>...</td>\n",
       "      <td>=\"0\"</td>\n",
       "      <td>3</td>\n",
       "      <td>†</td>\n",
       "      <td>52</td>\n",
       "      <td>41</td>\n",
       "      <td>1-Regular local school district that is NOT a ...</td>\n",
       "      <td>4-Alternative/other school</td>\n",
       "      <td>=\"024115185\"</td>\n",
       "      <td>2101</td>\n",
       "      <td>2-No</td>\n",
       "    </tr>\n",
       "    <tr>\n",
       "      <th>14</th>\n",
       "      <td>21ST CENTURY SKILLS ACADEMY</td>\n",
       "      <td>Massachusetts</td>\n",
       "      <td>MA</td>\n",
       "      <td>21st Century Skills Academy</td>\n",
       "      <td>251251002790</td>\n",
       "      <td>2512510</td>\n",
       "      <td>HAMPDEN COUNTY</td>\n",
       "      <td>25013</td>\n",
       "      <td>25</td>\n",
       "      <td>3-High</td>\n",
       "      <td>...</td>\n",
       "      <td>=\"0\"</td>\n",
       "      <td>=\"0\"</td>\n",
       "      <td>†</td>\n",
       "      <td>9</td>\n",
       "      <td>4</td>\n",
       "      <td>1-Regular local school district that is NOT a ...</td>\n",
       "      <td>1-Regular school</td>\n",
       "      <td>=\"03320515\"</td>\n",
       "      <td>2501</td>\n",
       "      <td>2-No</td>\n",
       "    </tr>\n",
       "    <tr>\n",
       "      <th>15</th>\n",
       "      <td>270 - HAP - IS</td>\n",
       "      <td>Minnesota</td>\n",
       "      <td>MN</td>\n",
       "      <td>270 - HAP - IS</td>\n",
       "      <td>270002504573</td>\n",
       "      <td>2700025</td>\n",
       "      <td>HENNEPIN COUNTY</td>\n",
       "      <td>27053</td>\n",
       "      <td>27</td>\n",
       "      <td>3-High</td>\n",
       "      <td>...</td>\n",
       "      <td>=\"0\"</td>\n",
       "      <td>=\"0\"</td>\n",
       "      <td>†</td>\n",
       "      <td>=\"0\"</td>\n",
       "      <td>=\"0\"</td>\n",
       "      <td>4-Regional Education Service Agency (RESA)</td>\n",
       "      <td>4-Alternative/other school</td>\n",
       "      <td>=\"060287794\"</td>\n",
       "      <td>2705</td>\n",
       "      <td>2-No</td>\n",
       "    </tr>\n",
       "  </tbody>\n",
       "</table>\n",
       "<p>5 rows × 59 columns</p>\n",
       "</div>"
      ],
      "text/plain": [
       "                          school_name     state_name state  \\\n",
       "1                 1050 ADAIR CO. HIGH       Missouri    MO   \n",
       "2   112 ALC AFTER SCHOOL & SUMMER SCH      Minnesota    MN   \n",
       "7                21ST CENTURY ACADEMY       Kentucky    KY   \n",
       "14        21ST CENTURY SKILLS ACADEMY  Massachusetts    MA   \n",
       "15                     270 - HAP - IS      Minnesota    MN   \n",
       "\n",
       "                       school_name_cl     school_id agency_id  \\\n",
       "1                      ADAIR CO. HIGH  290579000125   2905790   \n",
       "2   112 ALC AFTER SCHOOL & SUMMER SCH  270819004415   2708190   \n",
       "7                21st Century Academy  210115002241   2101150   \n",
       "14        21st Century Skills Academy  251251002790   2512510   \n",
       "15                     270 - HAP - IS  270002504573   2700025   \n",
       "\n",
       "         county_name county_number fips_state_code school_level_code  \\\n",
       "1       ADAIR COUNTY         29001              29            3-High   \n",
       "2      CARVER COUNTY         27019              27            3-High   \n",
       "7   CHRISTIAN COUNTY         21047              21            3-High   \n",
       "14    HAMPDEN COUNTY         25013              25            3-High   \n",
       "15   HENNEPIN COUNTY         27053              27            3-High   \n",
       "\n",
       "          ...         hawaiian_nat_pacific_isl_students  \\\n",
       "1         ...                                      =\"0\"   \n",
       "2         ...                                      =\"0\"   \n",
       "7         ...                                      =\"0\"   \n",
       "14        ...                                      =\"0\"   \n",
       "15        ...                                      =\"0\"   \n",
       "\n",
       "   two_or_more_races_students total_race_ethnicity male_students  \\\n",
       "1                           2                    †            41   \n",
       "2                           1                    †            10   \n",
       "7                           3                    †            52   \n",
       "14                       =\"0\"                    †             9   \n",
       "15                       =\"0\"                    †          =\"0\"   \n",
       "\n",
       "   female_students                                  agency_type_dis_x  \\\n",
       "1               51  1-Regular local school district that is NOT a ...   \n",
       "2                2  1-Regular local school district that is NOT a ...   \n",
       "7               41  1-Regular local school district that is NOT a ...   \n",
       "14               4  1-Regular local school district that is NOT a ...   \n",
       "15            =\"0\"         4-Regional Education Service Agency (RESA)   \n",
       "\n",
       "                 school_type_x state_school_id_x congressional_code_x  \\\n",
       "1             1-Regular school        1050001092                 2906   \n",
       "2   4-Alternative/other school      =\"010112067\"                 2703   \n",
       "7   4-Alternative/other school      =\"024115185\"                 2101   \n",
       "14            1-Regular school       =\"03320515\"                 2501   \n",
       "15  4-Alternative/other school      =\"060287794\"                 2705   \n",
       "\n",
       "   reconstituted_flag  \n",
       "1                2-No  \n",
       "2                2-No  \n",
       "7                2-No  \n",
       "14               2-No  \n",
       "15               2-No  \n",
       "\n",
       "[5 rows x 59 columns]"
      ]
     },
     "execution_count": 49,
     "metadata": {},
     "output_type": "execute_result"
    }
   ],
   "source": [
    "with open('../data/processed/0216_elsi_public_schools.pkl', 'rb') as picklefile: \n",
    "    elsi_df = pickle.load(picklefile)\n",
    "print(elsi_df.shape)\n",
    "elsi_df.head()"
   ]
  },
  {
   "cell_type": "code",
   "execution_count": 50,
   "metadata": {
    "collapsed": false
   },
   "outputs": [],
   "source": [
    "elsi_df = elsi_df[elsi_df['state'] == 'MN']"
   ]
  },
  {
   "cell_type": "markdown",
   "metadata": {},
   "source": [
    "#### 1. Subset out features of interest"
   ]
  },
  {
   "cell_type": "code",
   "execution_count": 13,
   "metadata": {
    "collapsed": true
   },
   "outputs": [],
   "source": [
    "# Get only needed cols from dataset\n",
    "mn_cols = ['dst_nam', 'sch_nam', 'tot_tot']"
   ]
  },
  {
   "cell_type": "code",
   "execution_count": 18,
   "metadata": {
    "collapsed": false
   },
   "outputs": [],
   "source": [
    "mn_subset1_df = mn_import_df[mn_cols].copy(deep=True)"
   ]
  },
  {
   "cell_type": "code",
   "execution_count": 20,
   "metadata": {
    "collapsed": false
   },
   "outputs": [
    {
     "name": "stdout",
     "output_type": "stream",
     "text": [
      "<class 'pandas.core.frame.DataFrame'>\n",
      "RangeIndex: 1212 entries, 0 to 1211\n",
      "Data columns (total 3 columns):\n",
      "dst_nam    1211 non-null object\n",
      "sch_nam    1211 non-null object\n",
      "tot_tot    1211 non-null float64\n",
      "dtypes: float64(1), object(2)\n",
      "memory usage: 28.5+ KB\n"
     ]
    }
   ],
   "source": [
    "mn_subset1_df.info()"
   ]
  },
  {
   "cell_type": "code",
   "execution_count": 51,
   "metadata": {
    "collapsed": true
   },
   "outputs": [],
   "source": [
    "# Get only needed cols from dataset\n",
    "elsi_cols = ['school_name',\n",
    "       'state',\\\n",
    "       'county_name',\\\n",
    "       'school_level_code',\\\n",
    "       'charter_school',\\\n",
    "       'magnet_school',\\\n",
    "       'shared_time_school',\\\n",
    "       'urban_centric_locale',\\\n",
    "       'school_type',\\\n",
    "       'free_lunch_eligible',\\\n",
    "       'reduced_price_lunch_eligible_students',\\\n",
    "       'pupil_teacher_ratio',\\\n",
    "       'address',\\\n",
    "       'city',\\\n",
    "       'zip',\\\n",
    "       'american_indian_students',\\\n",
    "       'asian_or_asian_pacif_isl_students',\\\n",
    "       'hispanic_students',\\\n",
    "       'black_students',\\\n",
    "       'white_students',\\\n",
    "       'hawaiian_nat_pacific_isl_students',\\\n",
    "       'two_or_more_races_students',\\\n",
    "       'total_race_ethnicity',\\\n",
    "       'male_students',\\\n",
    "       'female_students']"
   ]
  },
  {
   "cell_type": "code",
   "execution_count": 53,
   "metadata": {
    "collapsed": false
   },
   "outputs": [],
   "source": [
    "elsi_subset1_df = elsi_df[elsi_cols]"
   ]
  },
  {
   "cell_type": "code",
   "execution_count": 54,
   "metadata": {
    "collapsed": true
   },
   "outputs": [],
   "source": [
    "elsi_subset1_df = elsi_subset1_df.copy(deep=True)"
   ]
  },
  {
   "cell_type": "markdown",
   "metadata": {},
   "source": [
    "#### 2.Join datasets"
   ]
  },
  {
   "cell_type": "code",
   "execution_count": 57,
   "metadata": {
    "collapsed": false
   },
   "outputs": [
    {
     "name": "stdout",
     "output_type": "stream",
     "text": [
      "<class 'pandas.core.frame.DataFrame'>\n",
      "Int64Index: 11 entries, 0 to 10\n",
      "Data columns (total 28 columns):\n",
      "dst_nam                                  11 non-null object\n",
      "sch_nam                                  11 non-null object\n",
      "tot_tot                                  11 non-null float64\n",
      "school_name                              11 non-null object\n",
      "state                                    11 non-null object\n",
      "county_name                              11 non-null object\n",
      "school_level_code                        11 non-null object\n",
      "charter_school                           11 non-null object\n",
      "magnet_school                            11 non-null object\n",
      "shared_time_school                       11 non-null object\n",
      "urban_centric_locale                     11 non-null object\n",
      "school_type                              11 non-null object\n",
      "free_lunch_eligible                      11 non-null object\n",
      "reduced_price_lunch_eligible_students    11 non-null object\n",
      "pupil_teacher_ratio                      11 non-null object\n",
      "address                                  11 non-null object\n",
      "city                                     11 non-null object\n",
      "zip                                      11 non-null object\n",
      "american_indian_students                 11 non-null object\n",
      "asian_or_asian_pacif_isl_students        11 non-null object\n",
      "hispanic_students                        11 non-null object\n",
      "black_students                           11 non-null object\n",
      "white_students                           11 non-null object\n",
      "hawaiian_nat_pacific_isl_students        11 non-null object\n",
      "two_or_more_races_students               11 non-null object\n",
      "total_race_ethnicity                     11 non-null object\n",
      "male_students                            11 non-null object\n",
      "female_students                          11 non-null object\n",
      "dtypes: float64(1), object(27)\n",
      "memory usage: 2.5+ KB\n"
     ]
    }
   ],
   "source": [
    "# Join datasets\n",
    "import_df = pd.merge(mn_subset1_df, mn_elsi_subset1, how='inner', left_on='sch_nam', right_on='school_name')\n",
    "import_df.info()"
   ]
  },
  {
   "cell_type": "markdown",
   "metadata": {
    "collapsed": true
   },
   "source": [
    "<em> 11 matches with the join. This isn't worth pursuing further. </em>"
   ]
  },
  {
   "cell_type": "markdown",
   "metadata": {},
   "source": [
    "#### 2. Clean unprocessable values ('-', 'N/A', etc)"
   ]
  },
  {
   "cell_type": "code",
   "execution_count": null,
   "metadata": {
    "collapsed": true
   },
   "outputs": [],
   "source": [
    "subset1_df.replace('','', inplace=True, regex=True)"
   ]
  },
  {
   "cell_type": "code",
   "execution_count": null,
   "metadata": {
    "collapsed": true
   },
   "outputs": [],
   "source": []
  },
  {
   "cell_type": "markdown",
   "metadata": {},
   "source": [
    "#### 3. Format column data types"
   ]
  },
  {
   "cell_type": "code",
   "execution_count": null,
   "metadata": {
    "collapsed": true
   },
   "outputs": [],
   "source": [
    "float_cols = []\n",
    "\n",
    "int_cols = []"
   ]
  },
  {
   "cell_type": "code",
   "execution_count": null,
   "metadata": {
    "collapsed": true
   },
   "outputs": [],
   "source": [
    "# Convert rows to float\n",
    "\n",
    "cast_as_float(join_id_df, float_cols)"
   ]
  },
  {
   "cell_type": "code",
   "execution_count": null,
   "metadata": {
    "collapsed": true
   },
   "outputs": [],
   "source": [
    "# Convert rows to int\n",
    "\n",
    "cast_as_int(subset1_df_df, int_cols)"
   ]
  },
  {
   "cell_type": "code",
   "execution_count": null,
   "metadata": {
    "collapsed": true
   },
   "outputs": [],
   "source": []
  },
  {
   "cell_type": "markdown",
   "metadata": {},
   "source": [
    "#### 4. Create new features"
   ]
  },
  {
   "cell_type": "code",
   "execution_count": null,
   "metadata": {
    "collapsed": true
   },
   "outputs": [],
   "source": []
  },
  {
   "cell_type": "code",
   "execution_count": null,
   "metadata": {
    "collapsed": true
   },
   "outputs": [],
   "source": []
  },
  {
   "cell_type": "markdown",
   "metadata": {},
   "source": [
    "#### 5. Fill empty values with NANs"
   ]
  },
  {
   "cell_type": "code",
   "execution_count": null,
   "metadata": {
    "collapsed": true
   },
   "outputs": [],
   "source": [
    "# Fill NA values\n",
    "\n",
    "fillna_with_mean(subset1_df, [cols])\n",
    "fillna_with_median(subset1_df, [cols])"
   ]
  },
  {
   "cell_type": "code",
   "execution_count": null,
   "metadata": {
    "collapsed": true
   },
   "outputs": [],
   "source": []
  },
  {
   "cell_type": "markdown",
   "metadata": {},
   "source": [
    "#### 6. Drop outliers and duplicates"
   ]
  },
  {
   "cell_type": "code",
   "execution_count": null,
   "metadata": {
    "collapsed": true
   },
   "outputs": [],
   "source": []
  },
  {
   "cell_type": "code",
   "execution_count": null,
   "metadata": {
    "collapsed": true
   },
   "outputs": [],
   "source": [
    "elsi_df.drop_duplicates(subset=[], keep='first', inplace=True)"
   ]
  },
  {
   "cell_type": "markdown",
   "metadata": {},
   "source": [
    "#### 8. Subset out features of inter3st (2)"
   ]
  },
  {
   "cell_type": "code",
   "execution_count": null,
   "metadata": {
    "collapsed": true
   },
   "outputs": [],
   "source": [
    "subset2_df = raw_elsi_df[raw_elsi_df['school_level_code'] == '3-High']\n",
    "elsi_df.info()"
   ]
  },
  {
   "cell_type": "code",
   "execution_count": null,
   "metadata": {
    "collapsed": true
   },
   "outputs": [],
   "source": []
  },
  {
   "cell_type": "markdown",
   "metadata": {},
   "source": [
    "#### 9. Transform*"
   ]
  },
  {
   "cell_type": "code",
   "execution_count": null,
   "metadata": {
    "collapsed": true
   },
   "outputs": [],
   "source": []
  },
  {
   "cell_type": "code",
   "execution_count": null,
   "metadata": {
    "collapsed": true
   },
   "outputs": [],
   "source": []
  },
  {
   "cell_type": "markdown",
   "metadata": {},
   "source": [
    "#### 10. Create dummy variables*"
   ]
  },
  {
   "cell_type": "code",
   "execution_count": null,
   "metadata": {
    "collapsed": true
   },
   "outputs": [],
   "source": [
    "dummies = []"
   ]
  },
  {
   "cell_type": "code",
   "execution_count": null,
   "metadata": {
    "collapsed": true
   },
   "outputs": [],
   "source": [
    "wdum_df = pd.get_dummies(df, columns=dummies, drop_first=True)"
   ]
  },
  {
   "cell_type": "code",
   "execution_count": null,
   "metadata": {
    "collapsed": true
   },
   "outputs": [],
   "source": []
  }
 ],
 "metadata": {
  "anaconda-cloud": {},
  "kernelspec": {
   "display_name": "Python 3",
   "language": "python",
   "name": "python3"
  },
  "language_info": {
   "codemirror_mode": {
    "name": "ipython",
    "version": 3
   },
   "file_extension": ".py",
   "mimetype": "text/x-python",
   "name": "python",
   "nbconvert_exporter": "python",
   "pygments_lexer": "ipython3",
   "version": "3.5.2"
  }
 },
 "nbformat": 4,
 "nbformat_minor": 1
}
