{
 "cells": [
  {
   "cell_type": "markdown",
   "metadata": {},
   "source": [
    "# Random Forest Model\n",
    "\n",
    "### About Random Forest\n",
    "\n",
    "Random forests or random decision forests are an ensemble learning method for classification, regression and other tasks, that operate by constructing a multitude of decision trees at training time and outputting the class that is the mode of the classes (classification) or mean prediction (regression) of the individual trees. Random decision forests correct for decision trees' habit of overfitting to their training set \n",
    "\n",
    "More information about the [Scikit Learn Logistic Regression module can be found here](http://scikit-learn.org/stable/modules/generated/sklearn.ensemble.RandomForestClassifier.html).\n",
    "\n",
    "### A Random Forest Model for Predicting College Readiness"
   ]
  },
  {
   "cell_type": "code",
   "execution_count": 100,
   "metadata": {
    "collapsed": true
   },
   "outputs": [],
   "source": [
    "import re\n",
    "import statsmodels\n",
    "import numpy as np\n",
    "import pandas as pd\n",
    "import seaborn as sns\n",
    "import matplotlib.pyplot as plt\n",
    "%matplotlib inline\n",
    "from scipy import stats\n",
    "import pickle\n",
    "\n",
    "from sklearn import metrics\n",
    "from sklearn.model_selection import cross_val_score\n",
    "from sklearn.metrics import accuracy_score\n",
    "from sklearn import preprocessing\n",
    "from sklearn.model_selection import GridSearchCV\n",
    "from sklearn.tree import DecisionTreeClassifier\n",
    "from sklearn.svm import LinearSVC\n",
    "from sklearn.svm import SVC\n",
    "from sklearn.ensemble import RandomForestClassifier\n",
    "import statsmodels.api as sm\n",
    "import statsmodels.formula.api as smf\n",
    "import statsmodels.stats.api as sms\n",
    "import matplotlib.pyplot as plt\n",
    "from scipy import stats\n",
    "\n",
    "from sklearn.metrics import mean_squared_error\n",
    "from sklearn.metrics import r2_score"
   ]
  },
  {
   "cell_type": "code",
   "execution_count": 3,
   "metadata": {
    "collapsed": false
   },
   "outputs": [
    {
     "name": "stdout",
     "output_type": "stream",
     "text": [
      "(1368, 51)\n"
     ]
    },
    {
     "data": {
      "text/html": [
       "<div>\n",
       "<table border=\"1\" class=\"dataframe\">\n",
       "  <thead>\n",
       "    <tr style=\"text-align: right;\">\n",
       "      <th></th>\n",
       "      <th>district</th>\n",
       "      <th>college_readiness</th>\n",
       "      <th>school_name_x</th>\n",
       "      <th>city_x</th>\n",
       "      <th>state_x</th>\n",
       "      <th>graduation_rate</th>\n",
       "      <th>school_id</th>\n",
       "      <th>state_name</th>\n",
       "      <th>agency_id</th>\n",
       "      <th>county_name</th>\n",
       "      <th>...</th>\n",
       "      <th>hawaiian_nat_pacific_isl_students</th>\n",
       "      <th>two_or_more_races_students</th>\n",
       "      <th>male_students</th>\n",
       "      <th>female_students</th>\n",
       "      <th>pct_eligible_for_free_lunch</th>\n",
       "      <th>pct_eligible_for_reduced_lunch</th>\n",
       "      <th>pct_white</th>\n",
       "      <th>pct_black</th>\n",
       "      <th>pct_hispanic</th>\n",
       "      <th>total_students_calc</th>\n",
       "    </tr>\n",
       "  </thead>\n",
       "  <tbody>\n",
       "    <tr>\n",
       "      <th>0</th>\n",
       "      <td>Bay</td>\n",
       "      <td>40.9</td>\n",
       "      <td>A. Crawford Mosley High School</td>\n",
       "      <td>Lynn Haven</td>\n",
       "      <td>FL</td>\n",
       "      <td>82.0</td>\n",
       "      <td>120009000067</td>\n",
       "      <td>Florida</td>\n",
       "      <td>1200090</td>\n",
       "      <td>BAY COUNTY</td>\n",
       "      <td>...</td>\n",
       "      <td>2</td>\n",
       "      <td>64</td>\n",
       "      <td>844</td>\n",
       "      <td>843</td>\n",
       "      <td>0.346177</td>\n",
       "      <td>0.085359</td>\n",
       "      <td>0.808536</td>\n",
       "      <td>0.087730</td>\n",
       "      <td>0.046829</td>\n",
       "      <td>1687</td>\n",
       "    </tr>\n",
       "    <tr>\n",
       "      <th>1</th>\n",
       "      <td>Harford County Public Schools</td>\n",
       "      <td>28.6</td>\n",
       "      <td>Aberdeen High</td>\n",
       "      <td>Aberdeen</td>\n",
       "      <td>MD</td>\n",
       "      <td>87.0</td>\n",
       "      <td>240039000679</td>\n",
       "      <td>Maryland</td>\n",
       "      <td>2400390</td>\n",
       "      <td>HARFORD COUNTY</td>\n",
       "      <td>...</td>\n",
       "      <td>6</td>\n",
       "      <td>130</td>\n",
       "      <td>779</td>\n",
       "      <td>665</td>\n",
       "      <td>0.354571</td>\n",
       "      <td>0.086565</td>\n",
       "      <td>0.427978</td>\n",
       "      <td>0.348338</td>\n",
       "      <td>0.081025</td>\n",
       "      <td>1444</td>\n",
       "    </tr>\n",
       "    <tr>\n",
       "      <th>2</th>\n",
       "      <td>Abington Heights SD</td>\n",
       "      <td>35.1</td>\n",
       "      <td>Abington Heights High School</td>\n",
       "      <td>Clarks Summit</td>\n",
       "      <td>PA</td>\n",
       "      <td>93.0</td>\n",
       "      <td>420201005091</td>\n",
       "      <td>Pennsylvania</td>\n",
       "      <td>4202010</td>\n",
       "      <td>LACKAWANNA COUNTY</td>\n",
       "      <td>...</td>\n",
       "      <td>0</td>\n",
       "      <td>7</td>\n",
       "      <td>542</td>\n",
       "      <td>492</td>\n",
       "      <td>0.102515</td>\n",
       "      <td>0.020309</td>\n",
       "      <td>0.907157</td>\n",
       "      <td>0.018375</td>\n",
       "      <td>0.020309</td>\n",
       "      <td>1034</td>\n",
       "    </tr>\n",
       "    <tr>\n",
       "      <th>3</th>\n",
       "      <td>Abington SD</td>\n",
       "      <td>33.0</td>\n",
       "      <td>Abington High School</td>\n",
       "      <td>Abington</td>\n",
       "      <td>PA</td>\n",
       "      <td>93.0</td>\n",
       "      <td>420204003241</td>\n",
       "      <td>Pennsylvania</td>\n",
       "      <td>4202040</td>\n",
       "      <td>MONTGOMERY COUNTY</td>\n",
       "      <td>...</td>\n",
       "      <td>3</td>\n",
       "      <td>32</td>\n",
       "      <td>920</td>\n",
       "      <td>823</td>\n",
       "      <td>0.154332</td>\n",
       "      <td>0.023523</td>\n",
       "      <td>0.647160</td>\n",
       "      <td>0.232358</td>\n",
       "      <td>0.055077</td>\n",
       "      <td>1743</td>\n",
       "    </tr>\n",
       "    <tr>\n",
       "      <th>4</th>\n",
       "      <td>San Jose Unified School District</td>\n",
       "      <td>47.1</td>\n",
       "      <td>Abraham Lincoln High</td>\n",
       "      <td>San Jose</td>\n",
       "      <td>CA</td>\n",
       "      <td>94.0</td>\n",
       "      <td>=\"063459005696\"</td>\n",
       "      <td>California</td>\n",
       "      <td>=\"0634590\"</td>\n",
       "      <td>SANTA CLARA COUNTY</td>\n",
       "      <td>...</td>\n",
       "      <td>7</td>\n",
       "      <td>32</td>\n",
       "      <td>899</td>\n",
       "      <td>952</td>\n",
       "      <td>0.438142</td>\n",
       "      <td>0.097245</td>\n",
       "      <td>0.154511</td>\n",
       "      <td>0.041059</td>\n",
       "      <td>0.717450</td>\n",
       "      <td>1851</td>\n",
       "    </tr>\n",
       "  </tbody>\n",
       "</table>\n",
       "<p>5 rows × 51 columns</p>\n",
       "</div>"
      ],
      "text/plain": [
       "                           district  college_readiness  \\\n",
       "0                               Bay               40.9   \n",
       "1     Harford County Public Schools               28.6   \n",
       "2               Abington Heights SD               35.1   \n",
       "3                       Abington SD               33.0   \n",
       "4  San Jose Unified School District               47.1   \n",
       "\n",
       "                    school_name_x         city_x state_x  graduation_rate  \\\n",
       "0  A. Crawford Mosley High School     Lynn Haven      FL             82.0   \n",
       "1                   Aberdeen High       Aberdeen      MD             87.0   \n",
       "2    Abington Heights High School  Clarks Summit      PA             93.0   \n",
       "3            Abington High School       Abington      PA             93.0   \n",
       "4            Abraham Lincoln High       San Jose      CA             94.0   \n",
       "\n",
       "         school_id    state_name   agency_id         county_name  \\\n",
       "0     120009000067       Florida     1200090          BAY COUNTY   \n",
       "1     240039000679      Maryland     2400390      HARFORD COUNTY   \n",
       "2     420201005091  Pennsylvania     4202010   LACKAWANNA COUNTY   \n",
       "3     420204003241  Pennsylvania     4202040   MONTGOMERY COUNTY   \n",
       "4  =\"063459005696\"    California  =\"0634590\"  SANTA CLARA COUNTY   \n",
       "\n",
       "          ...          hawaiian_nat_pacific_isl_students  \\\n",
       "0         ...                                          2   \n",
       "1         ...                                          6   \n",
       "2         ...                                          0   \n",
       "3         ...                                          3   \n",
       "4         ...                                          7   \n",
       "\n",
       "  two_or_more_races_students male_students female_students  \\\n",
       "0                         64           844             843   \n",
       "1                        130           779             665   \n",
       "2                          7           542             492   \n",
       "3                         32           920             823   \n",
       "4                         32           899             952   \n",
       "\n",
       "  pct_eligible_for_free_lunch pct_eligible_for_reduced_lunch pct_white  \\\n",
       "0                    0.346177                       0.085359  0.808536   \n",
       "1                    0.354571                       0.086565  0.427978   \n",
       "2                    0.102515                       0.020309  0.907157   \n",
       "3                    0.154332                       0.023523  0.647160   \n",
       "4                    0.438142                       0.097245  0.154511   \n",
       "\n",
       "  pct_black pct_hispanic  total_students_calc  \n",
       "0  0.087730     0.046829                 1687  \n",
       "1  0.348338     0.081025                 1444  \n",
       "2  0.018375     0.020309                 1034  \n",
       "3  0.232358     0.055077                 1743  \n",
       "4  0.041059     0.717450                 1851  \n",
       "\n",
       "[5 rows x 51 columns]"
      ]
     },
     "execution_count": 3,
     "metadata": {},
     "output_type": "execute_result"
    }
   ],
   "source": [
    "# Import cleaned ELSI public school data\n",
    "\n",
    "with open('../data/processed/0215_all_features_cleaned.pkl', 'rb') as picklefile: \n",
    "    public_school_df = pickle.load(picklefile)\n",
    "print(public_school_df.shape)\n",
    "public_school_df.head()"
   ]
  },
  {
   "cell_type": "code",
   "execution_count": 8,
   "metadata": {
    "collapsed": false
   },
   "outputs": [],
   "source": [
    "public_school_df['state_county_name'] = public_school_df['county_name'] + \" (\" + public_school_df['state_x'] + \")\"\n",
    "public_school_df['state_county_name'] = public_school_df['state_county_name'].apply(lambda x: x.lower())"
   ]
  },
  {
   "cell_type": "code",
   "execution_count": 14,
   "metadata": {
    "collapsed": true
   },
   "outputs": [],
   "source": [
    "public_school_df['pct_asian'] = public_school_df['asian_or_asian_pacif_isl_students'] / public_school_df['total_students_calc']"
   ]
  },
  {
   "cell_type": "code",
   "execution_count": 15,
   "metadata": {
    "collapsed": true
   },
   "outputs": [],
   "source": [
    "pctasn = public_school_df['pct_asian'].mean()\n",
    "public_school_df['pct_asian'].fillna(value=pctasn, inplace=True)"
   ]
  },
  {
   "cell_type": "code",
   "execution_count": 23,
   "metadata": {
    "collapsed": false
   },
   "outputs": [],
   "source": [
    "for index, row in public_school_df.iterrows():\n",
    "    if 'Suburb' in row['urban_centric_locale']:\n",
    "        public_school_df.loc[index, 'urban_centric_locale'] = \"Suburb\"\n",
    "    elif 'City' in row['urban_centric_locale']:\n",
    "        public_school_df.loc[index, 'urban_centric_locale'] = \"City\"\n",
    "    elif 'Town' in row['urban_centric_locale']:\n",
    "        public_school_df.loc[index,'urban_centric_locale'] = \"Town\"\n",
    "    else:\n",
    "        public_school_df.loc[index, 'urban_centric_locale'] = \"Rural\""
   ]
  },
  {
   "cell_type": "code",
   "execution_count": 24,
   "metadata": {
    "collapsed": true
   },
   "outputs": [],
   "source": [
    "public_school_df['total_students_calc'] = pd.qcut(public_school_df['total_students_calc'], 4, labels=[\"small\",\"small_medium\",\"medium_large\", \"large\"])"
   ]
  },
  {
   "cell_type": "code",
   "execution_count": 42,
   "metadata": {
    "collapsed": false
   },
   "outputs": [
    {
     "data": {
      "text/plain": [
       "0    685\n",
       "1    683\n",
       "Name: college_readiness, dtype: int64"
      ]
     },
     "execution_count": 42,
     "metadata": {},
     "output_type": "execute_result"
    }
   ],
   "source": [
    "# classify_college_readiness = lambda x : 1 if x > 36.1 else 0\n",
    "\n",
    "# public_school_df['college_readiness'] = public_school_df['college_readiness'].apply(classify_college_readiness)\n",
    "\n",
    "# public_school_df['college_readiness'].value_counts()"
   ]
  },
  {
   "cell_type": "code",
   "execution_count": 5,
   "metadata": {
    "collapsed": false
   },
   "outputs": [
    {
     "name": "stdout",
     "output_type": "stream",
     "text": [
      "(3195, 6)\n"
     ]
    },
    {
     "data": {
      "text/html": [
       "<div>\n",
       "<table border=\"1\" class=\"dataframe\">\n",
       "  <thead>\n",
       "    <tr style=\"text-align: right;\">\n",
       "      <th></th>\n",
       "      <th>Year</th>\n",
       "      <th>county_id</th>\n",
       "      <th>state_county_name</th>\n",
       "      <th>pct_all_ages_in_poverty</th>\n",
       "      <th>pct_under_18_in_poverty</th>\n",
       "      <th>median_hh_income</th>\n",
       "    </tr>\n",
       "  </thead>\n",
       "  <tbody>\n",
       "    <tr>\n",
       "      <th>0</th>\n",
       "      <td>2015.0</td>\n",
       "      <td>0.0</td>\n",
       "      <td>united states</td>\n",
       "      <td>14.7</td>\n",
       "      <td>20.7</td>\n",
       "      <td>55775.0</td>\n",
       "    </tr>\n",
       "    <tr>\n",
       "      <th>1</th>\n",
       "      <td>2015.0</td>\n",
       "      <td>1000.0</td>\n",
       "      <td>alabama</td>\n",
       "      <td>18.5</td>\n",
       "      <td>26.5</td>\n",
       "      <td>44833.0</td>\n",
       "    </tr>\n",
       "    <tr>\n",
       "      <th>2</th>\n",
       "      <td>2015.0</td>\n",
       "      <td>1001.0</td>\n",
       "      <td>autauga county (al)</td>\n",
       "      <td>12.7</td>\n",
       "      <td>18.8</td>\n",
       "      <td>56580.0</td>\n",
       "    </tr>\n",
       "    <tr>\n",
       "      <th>3</th>\n",
       "      <td>2015.0</td>\n",
       "      <td>1003.0</td>\n",
       "      <td>baldwin county (al)</td>\n",
       "      <td>12.9</td>\n",
       "      <td>19.6</td>\n",
       "      <td>52387.0</td>\n",
       "    </tr>\n",
       "    <tr>\n",
       "      <th>4</th>\n",
       "      <td>2015.0</td>\n",
       "      <td>1005.0</td>\n",
       "      <td>barbour county (al)</td>\n",
       "      <td>32.0</td>\n",
       "      <td>45.2</td>\n",
       "      <td>31433.0</td>\n",
       "    </tr>\n",
       "  </tbody>\n",
       "</table>\n",
       "</div>"
      ],
      "text/plain": [
       "     Year  county_id    state_county_name  pct_all_ages_in_poverty  \\\n",
       "0  2015.0        0.0        united states                     14.7   \n",
       "1  2015.0     1000.0              alabama                     18.5   \n",
       "2  2015.0     1001.0  autauga county (al)                     12.7   \n",
       "3  2015.0     1003.0  baldwin county (al)                     12.9   \n",
       "4  2015.0     1005.0  barbour county (al)                     32.0   \n",
       "\n",
       "   pct_under_18_in_poverty  median_hh_income  \n",
       "0                     20.7           55775.0  \n",
       "1                     26.5           44833.0  \n",
       "2                     18.8           56580.0  \n",
       "3                     19.6           52387.0  \n",
       "4                     45.2           31433.0  "
      ]
     },
     "execution_count": 5,
     "metadata": {},
     "output_type": "execute_result"
    }
   ],
   "source": [
    "# Import cleaned county data\n",
    "\n",
    "with open('../data/processed/0219_county_data_cleaned.pkl', 'rb') as picklefile: \n",
    "    county_df = pickle.load(picklefile)\n",
    "print(count_df.shape)\n",
    "county_df.head()"
   ]
  },
  {
   "cell_type": "code",
   "execution_count": null,
   "metadata": {
    "collapsed": true
   },
   "outputs": [],
   "source": []
  },
  {
   "cell_type": "markdown",
   "metadata": {},
   "source": [
    "### Join public school and county data"
   ]
  },
  {
   "cell_type": "code",
   "execution_count": 44,
   "metadata": {
    "collapsed": true
   },
   "outputs": [],
   "source": [
    "join_df = pd.merge(public_school_df, county_df, how='left', on=['state_county_name'])"
   ]
  },
  {
   "cell_type": "code",
   "execution_count": 67,
   "metadata": {
    "collapsed": false
   },
   "outputs": [
    {
     "name": "stdout",
     "output_type": "stream",
     "text": [
      "<class 'pandas.core.frame.DataFrame'>\n",
      "Int64Index: 1368 entries, 0 to 1367\n",
      "Data columns (total 58 columns):\n",
      "district                                 1368 non-null object\n",
      "college_readiness                        1368 non-null int64\n",
      "school_name_x                            1368 non-null object\n",
      "city_x                                   1368 non-null object\n",
      "state_x                                  1368 non-null object\n",
      "graduation_rate                          1365 non-null float64\n",
      "school_id                                1368 non-null object\n",
      "state_name                               1368 non-null object\n",
      "agency_id                                1368 non-null object\n",
      "county_name                              1368 non-null object\n",
      "fips_state_code                          1368 non-null object\n",
      "charter_school                           1308 non-null object\n",
      "magnet_school                            1265 non-null object\n",
      "shared_time_school                       1368 non-null object\n",
      "urban_centric_locale                     1368 non-null object\n",
      "start_of_year_status                     1368 non-null object\n",
      "agency_type_dis                          1368 non-null object\n",
      "school_wide_title_I                      640 non-null object\n",
      "title_I_eligible_school                  1364 non-null object\n",
      "longitude                                1368 non-null float64\n",
      "latitude                                 1368 non-null float64\n",
      "state_school_id                          1368 non-null object\n",
      "congressional_code                       1368 non-null object\n",
      "national_school_lunch_program            1368 non-null object\n",
      "total_students_all_grades_excl_ae        1368 non-null int64\n",
      "total_students_all_grades_incl_ae        1368 non-null int64\n",
      "free_lunch_eligible                      1368 non-null int64\n",
      "reduced_price_lunch_eligible_students    1368 non-null int64\n",
      "pupil_teacher_ratio                      1368 non-null float64\n",
      "fte_teachers                             1222 non-null float64\n",
      "school_id_x                              1368 non-null object\n",
      "agency_id_x                              1368 non-null object\n",
      "county_name_x                            1368 non-null object\n",
      "ansi_fips_state_code                     1368 non-null object\n",
      "address                                  1368 non-null object\n",
      "zip                                      1368 non-null object\n",
      "american_indian_students                 1368 non-null int64\n",
      "asian_or_asian_pacif_isl_students        1368 non-null int64\n",
      "hispanic_students                        1368 non-null int64\n",
      "black_students                           1368 non-null int64\n",
      "white_students                           1368 non-null int64\n",
      "hawaiian_nat_pacific_isl_students        1368 non-null int64\n",
      "two_or_more_races_students               1368 non-null int64\n",
      "male_students                            1368 non-null int64\n",
      "female_students                          1368 non-null int64\n",
      "pct_eligible_for_free_lunch              1368 non-null float64\n",
      "pct_eligible_for_reduced_lunch           1368 non-null float64\n",
      "pct_white                                1368 non-null float64\n",
      "pct_black                                1368 non-null float64\n",
      "pct_hispanic                             1368 non-null float64\n",
      "total_students_calc                      1368 non-null object\n",
      "state_county_name                        1368 non-null object\n",
      "pct_asian                                1368 non-null float64\n",
      "Year                                     1308 non-null float64\n",
      "county_id                                1308 non-null float64\n",
      "pct_all_ages_in_poverty                  1308 non-null float64\n",
      "pct_under_18_in_poverty                  1308 non-null float64\n",
      "median_hh_income                         1308 non-null float64\n",
      "dtypes: float64(16), int64(14), object(28)\n",
      "memory usage: 630.6+ KB\n"
     ]
    }
   ],
   "source": [
    "join_df.info()"
   ]
  },
  {
   "cell_type": "code",
   "execution_count": 46,
   "metadata": {
    "collapsed": true
   },
   "outputs": [],
   "source": [
    "dummies = ['urban_centric_locale', 'total_students_calc']"
   ]
  },
  {
   "cell_type": "code",
   "execution_count": 47,
   "metadata": {
    "collapsed": false
   },
   "outputs": [],
   "source": [
    "join_wdumm_df = pd.get_dummies(join_df, columns=dummies, drop_first=True)"
   ]
  },
  {
   "cell_type": "code",
   "execution_count": 43,
   "metadata": {
    "collapsed": false
   },
   "outputs": [],
   "source": [
    "# join_wdumm_df.info()"
   ]
  },
  {
   "cell_type": "code",
   "execution_count": null,
   "metadata": {
    "collapsed": true
   },
   "outputs": [],
   "source": [
    "# Run first model with college readiness as target"
   ]
  },
  {
   "cell_type": "code",
   "execution_count": 96,
   "metadata": {
    "collapsed": false
   },
   "outputs": [],
   "source": [
    "model_cols =  ['college_readiness',\\\n",
    "           'pupil_teacher_ratio',\\\n",
    "           'pct_eligible_for_free_lunch',\\\n",
    "           'pct_eligible_for_reduced_lunch',\\\n",
    "           'median_hh_income',\\\n",
    "           'pct_white',\\\n",
    "           'pct_black',\\\n",
    "           'pct_hispanic',\\\n",
    "           'pct_asian',\\\n",
    "           'urban_centric_locale_Rural',\\\n",
    "           'urban_centric_locale_Suburb',\\\n",
    "           'urban_centric_locale_Town',\\\n",
    "           'total_students_calc_medium_large',\\\n",
    "           'total_students_calc_small',\\\n",
    "           'total_students_calc_small_medium']"
   ]
  },
  {
   "cell_type": "code",
   "execution_count": 97,
   "metadata": {
    "collapsed": false
   },
   "outputs": [
    {
     "name": "stdout",
     "output_type": "stream",
     "text": [
      "<class 'pandas.core.frame.DataFrame'>\n",
      "Int64Index: 1308 entries, 0 to 1367\n",
      "Data columns (total 15 columns):\n",
      "college_readiness                   1308 non-null int64\n",
      "pupil_teacher_ratio                 1308 non-null float64\n",
      "pct_eligible_for_free_lunch         1308 non-null float64\n",
      "pct_eligible_for_reduced_lunch      1308 non-null float64\n",
      "median_hh_income                    1308 non-null float64\n",
      "pct_white                           1308 non-null float64\n",
      "pct_black                           1308 non-null float64\n",
      "pct_hispanic                        1308 non-null float64\n",
      "pct_asian                           1308 non-null float64\n",
      "urban_centric_locale_Rural          1308 non-null uint8\n",
      "urban_centric_locale_Suburb         1308 non-null uint8\n",
      "urban_centric_locale_Town           1308 non-null uint8\n",
      "total_students_calc_medium_large    1308 non-null uint8\n",
      "total_students_calc_small           1308 non-null uint8\n",
      "total_students_calc_small_medium    1308 non-null uint8\n",
      "dtypes: float64(8), int64(1), uint8(6)\n",
      "memory usage: 109.9 KB\n"
     ]
    }
   ],
   "source": [
    "model_df = join_wdumm_df[model_cols].dropna()\n",
    "model_df.info()"
   ]
  },
  {
   "cell_type": "code",
   "execution_count": 98,
   "metadata": {
    "collapsed": true
   },
   "outputs": [],
   "source": [
    "# Fit regression model\n",
    "X = model_df.ix[:,1:]\n",
    "y = model_df['college_readiness']"
   ]
  },
  {
   "cell_type": "code",
   "execution_count": 101,
   "metadata": {
    "collapsed": false
   },
   "outputs": [
    {
     "data": {
      "text/html": [
       "<table class=\"simpletable\">\n",
       "<caption>OLS Regression Results</caption>\n",
       "<tr>\n",
       "  <th>Dep. Variable:</th>    <td>college_readiness</td> <th>  R-squared:         </th> <td>   0.623</td> \n",
       "</tr>\n",
       "<tr>\n",
       "  <th>Model:</th>                   <td>OLS</td>        <th>  Adj. R-squared:    </th> <td>   0.617</td> \n",
       "</tr>\n",
       "<tr>\n",
       "  <th>Method:</th>             <td>Least Squares</td>   <th>  F-statistic:       </th> <td>   106.4</td> \n",
       "</tr>\n",
       "<tr>\n",
       "  <th>Date:</th>             <td>Tue, 21 Feb 2017</td>  <th>  Prob (F-statistic):</th> <td>9.14e-180</td>\n",
       "</tr>\n",
       "<tr>\n",
       "  <th>Time:</th>                 <td>14:44:31</td>      <th>  Log-Likelihood:    </th> <td> -546.19</td> \n",
       "</tr>\n",
       "<tr>\n",
       "  <th>No. Observations:</th>      <td>   915</td>       <th>  AIC:               </th> <td>   1120.</td> \n",
       "</tr>\n",
       "<tr>\n",
       "  <th>Df Residuals:</th>          <td>   901</td>       <th>  BIC:               </th> <td>   1188.</td> \n",
       "</tr>\n",
       "<tr>\n",
       "  <th>Df Model:</th>              <td>    14</td>       <th>                     </th>     <td> </td>    \n",
       "</tr>\n",
       "<tr>\n",
       "  <th>Covariance Type:</th>      <td>nonrobust</td>     <th>                     </th>     <td> </td>    \n",
       "</tr>\n",
       "</table>\n",
       "<table class=\"simpletable\">\n",
       "<tr>\n",
       "                  <td></td>                    <th>coef</th>     <th>std err</th>      <th>t</th>      <th>P>|t|</th> <th>[95.0% Conf. Int.]</th> \n",
       "</tr>\n",
       "<tr>\n",
       "  <th>pupil_teacher_ratio</th>              <td>    0.0035</td> <td>    0.002</td> <td>    1.720</td> <td> 0.086</td> <td>   -0.000     0.008</td>\n",
       "</tr>\n",
       "<tr>\n",
       "  <th>pct_eligible_for_free_lunch</th>      <td>   -0.5307</td> <td>    0.100</td> <td>   -5.309</td> <td> 0.000</td> <td>   -0.727    -0.334</td>\n",
       "</tr>\n",
       "<tr>\n",
       "  <th>pct_eligible_for_reduced_lunch</th>   <td>   -0.7715</td> <td>    0.291</td> <td>   -2.655</td> <td> 0.008</td> <td>   -1.342    -0.201</td>\n",
       "</tr>\n",
       "<tr>\n",
       "  <th>median_hh_income</th>                 <td> 5.226e-06</td> <td>    1e-06</td> <td>    5.228</td> <td> 0.000</td> <td> 3.26e-06  7.19e-06</td>\n",
       "</tr>\n",
       "<tr>\n",
       "  <th>pct_white</th>                        <td>    0.2362</td> <td>    0.094</td> <td>    2.504</td> <td> 0.012</td> <td>    0.051     0.421</td>\n",
       "</tr>\n",
       "<tr>\n",
       "  <th>pct_black</th>                        <td>    0.2681</td> <td>    0.136</td> <td>    1.970</td> <td> 0.049</td> <td>    0.001     0.535</td>\n",
       "</tr>\n",
       "<tr>\n",
       "  <th>pct_hispanic</th>                     <td>    0.3879</td> <td>    0.124</td> <td>    3.117</td> <td> 0.002</td> <td>    0.144     0.632</td>\n",
       "</tr>\n",
       "<tr>\n",
       "  <th>pct_asian</th>                        <td>    0.9198</td> <td>    0.155</td> <td>    5.949</td> <td> 0.000</td> <td>    0.616     1.223</td>\n",
       "</tr>\n",
       "<tr>\n",
       "  <th>urban_centric_locale_Rural</th>       <td>   -0.2320</td> <td>    0.052</td> <td>   -4.443</td> <td> 0.000</td> <td>   -0.334    -0.130</td>\n",
       "</tr>\n",
       "<tr>\n",
       "  <th>urban_centric_locale_Suburb</th>      <td>   -0.0375</td> <td>    0.038</td> <td>   -0.985</td> <td> 0.325</td> <td>   -0.112     0.037</td>\n",
       "</tr>\n",
       "<tr>\n",
       "  <th>urban_centric_locale_Town</th>        <td>   -0.3165</td> <td>    0.063</td> <td>   -5.012</td> <td> 0.000</td> <td>   -0.440    -0.193</td>\n",
       "</tr>\n",
       "<tr>\n",
       "  <th>total_students_calc_medium_large</th> <td>    0.0477</td> <td>    0.042</td> <td>    1.123</td> <td> 0.262</td> <td>   -0.036     0.131</td>\n",
       "</tr>\n",
       "<tr>\n",
       "  <th>total_students_calc_small</th>        <td>    0.1311</td> <td>    0.047</td> <td>    2.798</td> <td> 0.005</td> <td>    0.039     0.223</td>\n",
       "</tr>\n",
       "<tr>\n",
       "  <th>total_students_calc_small_medium</th> <td>    0.1165</td> <td>    0.044</td> <td>    2.628</td> <td> 0.009</td> <td>    0.029     0.203</td>\n",
       "</tr>\n",
       "</table>\n",
       "<table class=\"simpletable\">\n",
       "<tr>\n",
       "  <th>Omnibus:</th>       <td>597.872</td> <th>  Durbin-Watson:     </th> <td>   1.945</td>\n",
       "</tr>\n",
       "<tr>\n",
       "  <th>Prob(Omnibus):</th> <td> 0.000</td>  <th>  Jarque-Bera (JB):  </th> <td>  53.722</td>\n",
       "</tr>\n",
       "<tr>\n",
       "  <th>Skew:</th>          <td> 0.014</td>  <th>  Prob(JB):          </th> <td>2.16e-12</td>\n",
       "</tr>\n",
       "<tr>\n",
       "  <th>Kurtosis:</th>      <td> 1.813</td>  <th>  Cond. No.          </th> <td>1.32e+06</td>\n",
       "</tr>\n",
       "</table>"
      ],
      "text/plain": [
       "<class 'statsmodels.iolib.summary.Summary'>\n",
       "\"\"\"\n",
       "                            OLS Regression Results                            \n",
       "==============================================================================\n",
       "Dep. Variable:      college_readiness   R-squared:                       0.623\n",
       "Model:                            OLS   Adj. R-squared:                  0.617\n",
       "Method:                 Least Squares   F-statistic:                     106.4\n",
       "Date:                Tue, 21 Feb 2017   Prob (F-statistic):          9.14e-180\n",
       "Time:                        14:44:31   Log-Likelihood:                -546.19\n",
       "No. Observations:                 915   AIC:                             1120.\n",
       "Df Residuals:                     901   BIC:                             1188.\n",
       "Df Model:                          14                                         \n",
       "Covariance Type:            nonrobust                                         \n",
       "====================================================================================================\n",
       "                                       coef    std err          t      P>|t|      [95.0% Conf. Int.]\n",
       "----------------------------------------------------------------------------------------------------\n",
       "pupil_teacher_ratio                  0.0035      0.002      1.720      0.086        -0.000     0.008\n",
       "pct_eligible_for_free_lunch         -0.5307      0.100     -5.309      0.000        -0.727    -0.334\n",
       "pct_eligible_for_reduced_lunch      -0.7715      0.291     -2.655      0.008        -1.342    -0.201\n",
       "median_hh_income                  5.226e-06      1e-06      5.228      0.000      3.26e-06  7.19e-06\n",
       "pct_white                            0.2362      0.094      2.504      0.012         0.051     0.421\n",
       "pct_black                            0.2681      0.136      1.970      0.049         0.001     0.535\n",
       "pct_hispanic                         0.3879      0.124      3.117      0.002         0.144     0.632\n",
       "pct_asian                            0.9198      0.155      5.949      0.000         0.616     1.223\n",
       "urban_centric_locale_Rural          -0.2320      0.052     -4.443      0.000        -0.334    -0.130\n",
       "urban_centric_locale_Suburb         -0.0375      0.038     -0.985      0.325        -0.112     0.037\n",
       "urban_centric_locale_Town           -0.3165      0.063     -5.012      0.000        -0.440    -0.193\n",
       "total_students_calc_medium_large     0.0477      0.042      1.123      0.262        -0.036     0.131\n",
       "total_students_calc_small            0.1311      0.047      2.798      0.005         0.039     0.223\n",
       "total_students_calc_small_medium     0.1165      0.044      2.628      0.009         0.029     0.203\n",
       "==============================================================================\n",
       "Omnibus:                      597.872   Durbin-Watson:                   1.945\n",
       "Prob(Omnibus):                  0.000   Jarque-Bera (JB):               53.722\n",
       "Skew:                           0.014   Prob(JB):                     2.16e-12\n",
       "Kurtosis:                       1.813   Cond. No.                     1.32e+06\n",
       "==============================================================================\n",
       "\n",
       "Warnings:\n",
       "[1] Standard Errors assume that the covariance matrix of the errors is correctly specified.\n",
       "[2] The condition number is large, 1.32e+06. This might indicate that there are\n",
       "strong multicollinearity or other numerical problems.\n",
       "\"\"\""
      ]
     },
     "execution_count": 101,
     "metadata": {},
     "output_type": "execute_result"
    }
   ],
   "source": [
    "X_train, X_test, y_train, y_test = train_test_split(X, y, test_size=0.3, random_state=4444)\n",
    "\n",
    "results = sm.OLS(y_train,X_train).fit()\n",
    "# Inspect the results\n",
    "results.summary()"
   ]
  },
  {
   "cell_type": "code",
   "execution_count": null,
   "metadata": {
    "collapsed": true
   },
   "outputs": [],
   "source": []
  },
  {
   "cell_type": "code",
   "execution_count": null,
   "metadata": {
    "collapsed": true
   },
   "outputs": [],
   "source": []
  },
  {
   "cell_type": "code",
   "execution_count": null,
   "metadata": {
    "collapsed": true
   },
   "outputs": [],
   "source": []
  },
  {
   "cell_type": "markdown",
   "metadata": {},
   "source": [
    "### Run Random Forrest Model"
   ]
  },
  {
   "cell_type": "code",
   "execution_count": 51,
   "metadata": {
    "collapsed": true
   },
   "outputs": [],
   "source": [
    "rf = RandomForestClassifier(random_state=4444)"
   ]
  },
  {
   "cell_type": "code",
   "execution_count": 52,
   "metadata": {
    "collapsed": true
   },
   "outputs": [],
   "source": [
    "X_raw = model_df.ix[:,1:]\n",
    "X = preprocessing.scale(X_raw)\n",
    "\n",
    "y = model_df['college_readiness']\n",
    "\n",
    "# STEP 1: split X and y into training and testing sets\n",
    "from sklearn.model_selection import train_test_split\n",
    "\n",
    "X_train, X_test, y_train, y_test = train_test_split(X, y, test_size=0.3, random_state=42)"
   ]
  },
  {
   "cell_type": "code",
   "execution_count": 60,
   "metadata": {
    "collapsed": false
   },
   "outputs": [
    {
     "name": "stdout",
     "output_type": "stream",
     "text": [
      "0.702290076336\n"
     ]
    }
   ],
   "source": [
    "rf.fit(X_train, y_train)\n",
    "y_pred = rf.predict(X_test)\n",
    "print(accuracy_score(y_test, y_pred))"
   ]
  },
  {
   "cell_type": "code",
   "execution_count": 61,
   "metadata": {
    "collapsed": false
   },
   "outputs": [
    {
     "name": "stdout",
     "output_type": "stream",
     "text": [
      "accuracy 0.685577055794\n",
      "precision 0.716600713022\n",
      "recall 0.623381642512\n",
      "f1 0.664288541834\n"
     ]
    }
   ],
   "source": [
    "for metric in ['accuracy', 'precision', 'recall', 'f1']:\n",
    "    print(metric, np.mean(cross_val_score(rf, X_train, y_train, cv=10, scoring=metric)))"
   ]
  },
  {
   "cell_type": "markdown",
   "metadata": {},
   "source": [
    "### Visualizations"
   ]
  },
  {
   "cell_type": "code",
   "execution_count": 74,
   "metadata": {
    "collapsed": true
   },
   "outputs": [],
   "source": [
    "viz_cols =  ['school_name_x',\\\n",
    "           'state_x',\\\n",
    "           'college_readiness',\\\n",
    "           'pupil_teacher_ratio',\\\n",
    "           'pct_eligible_for_free_lunch',\\\n",
    "           'median_hh_income',\\\n",
    "           'pct_white',\\\n",
    "           'pct_black',\\\n",
    "           'pct_hispanic',\\\n",
    "           'pct_asian',\\\n",
    "           'urban_centric_locale',\\\n",
    "           'total_students_calc']"
   ]
  },
  {
   "cell_type": "code",
   "execution_count": 75,
   "metadata": {
    "collapsed": false
   },
   "outputs": [
    {
     "name": "stdout",
     "output_type": "stream",
     "text": [
      "<class 'pandas.core.frame.DataFrame'>\n",
      "Int64Index: 1308 entries, 0 to 1367\n",
      "Data columns (total 12 columns):\n",
      "school_name_x                  1308 non-null object\n",
      "state_x                        1308 non-null object\n",
      "college_readiness              1308 non-null int64\n",
      "pupil_teacher_ratio            1308 non-null float64\n",
      "pct_eligible_for_free_lunch    1308 non-null float64\n",
      "median_hh_income               1308 non-null float64\n",
      "pct_white                      1308 non-null float64\n",
      "pct_black                      1308 non-null float64\n",
      "pct_hispanic                   1308 non-null float64\n",
      "pct_asian                      1308 non-null float64\n",
      "urban_centric_locale           1308 non-null object\n",
      "total_students_calc            1308 non-null object\n",
      "dtypes: float64(7), int64(1), object(4)\n",
      "memory usage: 132.8+ KB\n"
     ]
    }
   ],
   "source": [
    "viz_df = join_df[viz_cols].dropna()\n",
    "viz_df.info()"
   ]
  },
  {
   "cell_type": "code",
   "execution_count": 76,
   "metadata": {
    "collapsed": true
   },
   "outputs": [],
   "source": [
    "mn_viz_df = viz_df[viz_df['state_x'] == 'MN']"
   ]
  },
  {
   "cell_type": "code",
   "execution_count": 79,
   "metadata": {
    "collapsed": false
   },
   "outputs": [
    {
     "name": "stdout",
     "output_type": "stream",
     "text": [
      "<class 'pandas.core.frame.DataFrame'>\n",
      "Int64Index: 35 entries, 59 to 1366\n",
      "Data columns (total 12 columns):\n",
      "school_name_x                  35 non-null object\n",
      "state_x                        35 non-null object\n",
      "college_readiness              35 non-null int64\n",
      "pupil_teacher_ratio            35 non-null float64\n",
      "pct_eligible_for_free_lunch    35 non-null float64\n",
      "median_hh_income               35 non-null float64\n",
      "pct_white                      35 non-null float64\n",
      "pct_black                      35 non-null float64\n",
      "pct_hispanic                   35 non-null float64\n",
      "pct_asian                      35 non-null float64\n",
      "urban_centric_locale           35 non-null object\n",
      "total_students_calc            35 non-null object\n",
      "dtypes: float64(7), int64(1), object(4)\n",
      "memory usage: 3.6+ KB\n"
     ]
    }
   ],
   "source": [
    "mn_viz_df.info()"
   ]
  },
  {
   "cell_type": "code",
   "execution_count": 85,
   "metadata": {
    "collapsed": false
   },
   "outputs": [],
   "source": [
    "mn_viz_df[['median_hh_income','college_readiness','urban_centric_locale','total_students_calc']].to_json('mn_viz.json', orient='records')"
   ]
  },
  {
   "cell_type": "code",
   "execution_count": 93,
   "metadata": {
    "collapsed": false
   },
   "outputs": [
    {
     "name": "stdout",
     "output_type": "stream",
     "text": [
      "\"district\",\n",
      "\"college_readiness\",\n",
      "\"school_name_x\",\n",
      "\"city_x\",\n",
      "\"state_x\",\n",
      "\"graduation_rate\",\n",
      "\"school_id\",\n",
      "\"state_name\",\n",
      "\"agency_id\",\n",
      "\"county_name\",\n",
      "\"fips_state_code\",\n",
      "\"charter_school\",\n",
      "\"magnet_school\",\n",
      "\"shared_time_school\",\n",
      "\"urban_centric_locale\",\n",
      "\"start_of_year_status\",\n",
      "\"agency_type_dis\",\n",
      "\"school_wide_title_I\",\n",
      "\"title_I_eligible_school\",\n",
      "\"longitude\",\n",
      "\"latitude\",\n",
      "\"state_school_id\",\n",
      "\"congressional_code\",\n",
      "\"national_school_lunch_program\",\n",
      "\"total_students_all_grades_excl_ae\",\n",
      "\"total_students_all_grades_incl_ae\",\n",
      "\"free_lunch_eligible\",\n",
      "\"reduced_price_lunch_eligible_students\",\n",
      "\"pupil_teacher_ratio\",\n",
      "\"fte_teachers\",\n",
      "\"school_id_x\",\n",
      "\"agency_id_x\",\n",
      "\"county_name_x\",\n",
      "\"ansi_fips_state_code\",\n",
      "\"address\",\n",
      "\"zip\",\n",
      "\"american_indian_students\",\n",
      "\"asian_or_asian_pacif_isl_students\",\n",
      "\"hispanic_students\",\n",
      "\"black_students\",\n",
      "\"white_students\",\n",
      "\"hawaiian_nat_pacific_isl_students\",\n",
      "\"two_or_more_races_students\",\n",
      "\"male_students\",\n",
      "\"female_students\",\n",
      "\"pct_eligible_for_free_lunch\",\n",
      "\"pct_eligible_for_reduced_lunch\",\n",
      "\"pct_white\",\n",
      "\"pct_black\",\n",
      "\"pct_hispanic\",\n",
      "\"total_students_calc\",\n"
     ]
    }
   ],
   "source": [
    "for col in df.columns:\n",
    "    print('\"' + col + '\",')"
   ]
  },
  {
   "cell_type": "code",
   "execution_count": 95,
   "metadata": {
    "collapsed": false
   },
   "outputs": [
    {
     "data": {
      "text/plain": [
       "Index(['college_readiness', 'school_name_x', 'city_x', 'state_x',\n",
       "       'graduation_rate', 'school_id', 'state_name', 'agency_id',\n",
       "       'county_name', 'fips_state_code'],\n",
       "      dtype='object')"
      ]
     },
     "execution_count": 95,
     "metadata": {},
     "output_type": "execute_result"
    }
   ],
   "source": [
    "df.columns[1:11]"
   ]
  },
  {
   "cell_type": "code",
   "execution_count": null,
   "metadata": {
    "collapsed": true
   },
   "outputs": [],
   "source": []
  }
 ],
 "metadata": {
  "kernelspec": {
   "display_name": "Python 3",
   "language": "python",
   "name": "python3"
  },
  "language_info": {
   "codemirror_mode": {
    "name": "ipython",
    "version": 3
   },
   "file_extension": ".py",
   "mimetype": "text/x-python",
   "name": "python",
   "nbconvert_exporter": "python",
   "pygments_lexer": "ipython3",
   "version": "3.5.2"
  }
 },
 "nbformat": 4,
 "nbformat_minor": 2
}
