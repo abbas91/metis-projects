{
 "cells": [
  {
   "cell_type": "code",
   "execution_count": 1,
   "metadata": {
    "collapsed": true
   },
   "outputs": [],
   "source": [
    "# Python 2 & 3 Compatibility\n",
    "from __future__ import print_function, division\n",
    "\n",
    "# Necessary imports\n",
    "import pandas as pd\n",
    "import numpy as np\n",
    "import statsmodels.api as sm\n",
    "import statsmodels.formula.api as smf\n",
    "import patsy\n",
    "import seaborn as sns\n",
    "from seaborn import plt\n",
    "from sklearn.linear_model import LinearRegression\n",
    "from sklearn.linear_model import RidgeCV\n",
    "\n",
    "%matplotlib inline"
   ]
  },
  {
   "cell_type": "code",
   "execution_count": 2,
   "metadata": {
    "collapsed": true
   },
   "outputs": [],
   "source": [
    "from dbfread import DBF"
   ]
  },
  {
   "cell_type": "code",
   "execution_count": 7,
   "metadata": {
    "collapsed": false
   },
   "outputs": [],
   "source": [
    "table = DBF('../data/raw/hennepin_county_metrogis_parcels/hennepin_county_metrogis_parcels.dbf', load=True, raw=True)"
   ]
  },
  {
   "cell_type": "code",
   "execution_count": 10,
   "metadata": {
    "collapsed": false
   },
   "outputs": [
    {
     "data": {
      "text/plain": [
       "['COUNTY_ID',\n",
       " 'PIN',\n",
       " 'BLDG_NUM',\n",
       " 'PREFIX_DIR',\n",
       " 'PREFIXTYPE',\n",
       " 'STREETNAME',\n",
       " 'STREETTYPE',\n",
       " 'SUFFIX_DIR',\n",
       " 'UNIT_INFO',\n",
       " 'CITY',\n",
       " 'CITY_USPS',\n",
       " 'ZIP',\n",
       " 'ZIP4',\n",
       " 'PLAT_NAME',\n",
       " 'BLOCK',\n",
       " 'LOT',\n",
       " 'ACRES_POLY',\n",
       " 'ACRES_DEED',\n",
       " 'USE1_DESC',\n",
       " 'USE2_DESC',\n",
       " 'USE3_DESC',\n",
       " 'USE4_DESC',\n",
       " 'MULTI_USES',\n",
       " 'LANDMARK',\n",
       " 'OWNER_NAME',\n",
       " 'OWNER_MORE',\n",
       " 'OWN_ADD_L1',\n",
       " 'OWN_ADD_L2',\n",
       " 'OWN_ADD_L3',\n",
       " 'TAX_NAME',\n",
       " 'TAX_ADD_L1',\n",
       " 'TAX_ADD_L2',\n",
       " 'TAX_ADD_L3',\n",
       " 'HOMESTEAD',\n",
       " 'EMV_LAND',\n",
       " 'EMV_BLDG',\n",
       " 'EMV_TOTAL',\n",
       " 'TAX_CAPAC',\n",
       " 'TOTAL_TAX',\n",
       " 'SPEC_ASSES',\n",
       " 'TAX_EXEMPT',\n",
       " 'XUSE1_DESC',\n",
       " 'XUSE2_DESC',\n",
       " 'XUSE3_DESC',\n",
       " 'XUSE4_DESC',\n",
       " 'DWELL_TYPE',\n",
       " 'HOME_STYLE',\n",
       " 'FIN_SQ_FT',\n",
       " 'GARAGE',\n",
       " 'GARAGESQFT',\n",
       " 'BASEMENT',\n",
       " 'HEATING',\n",
       " 'COOLING',\n",
       " 'YEAR_BUILT',\n",
       " 'NUM_UNITS',\n",
       " 'SALE_DATE',\n",
       " 'SALE_VALUE',\n",
       " 'SCHOOL_DST',\n",
       " 'WSHD_DIST',\n",
       " 'GREEN_ACRE',\n",
       " 'OPEN_SPACE',\n",
       " 'AG_PRESERV',\n",
       " 'AGPRE_ENRD',\n",
       " 'AGPRE_EXPD',\n",
       " 'PARC_CODE',\n",
       " 'Shape_area',\n",
       " 'Shape_len']"
      ]
     },
     "execution_count": 10,
     "metadata": {},
     "output_type": "execute_result"
    }
   ],
   "source": [
    "table.field_names"
   ]
  },
  {
   "cell_type": "code",
   "execution_count": 13,
   "metadata": {
    "collapsed": false
   },
   "outputs": [],
   "source": [
    "df = pd.DataFrame(table.records)"
   ]
  },
  {
   "cell_type": "code",
   "execution_count": 19,
   "metadata": {
    "collapsed": false
   },
   "outputs": [
    {
     "data": {
      "text/html": [
       "<div>\n",
       "<table border=\"1\" class=\"dataframe\">\n",
       "  <thead>\n",
       "    <tr style=\"text-align: right;\">\n",
       "      <th></th>\n",
       "      <th>COUNTY_ID</th>\n",
       "      <th>PIN</th>\n",
       "      <th>BLDG_NUM</th>\n",
       "      <th>PREFIX_DIR</th>\n",
       "      <th>PREFIXTYPE</th>\n",
       "      <th>STREETNAME</th>\n",
       "      <th>STREETTYPE</th>\n",
       "      <th>SUFFIX_DIR</th>\n",
       "      <th>UNIT_INFO</th>\n",
       "      <th>CITY</th>\n",
       "      <th>...</th>\n",
       "      <th>SCHOOL_DST</th>\n",
       "      <th>WSHD_DIST</th>\n",
       "      <th>GREEN_ACRE</th>\n",
       "      <th>OPEN_SPACE</th>\n",
       "      <th>AG_PRESERV</th>\n",
       "      <th>AGPRE_ENRD</th>\n",
       "      <th>AGPRE_EXPD</th>\n",
       "      <th>PARC_CODE</th>\n",
       "      <th>Shape_area</th>\n",
       "      <th>Shape_len</th>\n",
       "    </tr>\n",
       "  </thead>\n",
       "  <tbody>\n",
       "    <tr>\n",
       "      <th>256758</th>\n",
       "      <td>b'053'</td>\n",
       "      <td>b'053-1702724310037'</td>\n",
       "      <td>b'9841      '</td>\n",
       "      <td>b'  '</td>\n",
       "      <td>b'      '</td>\n",
       "      <td>b'YORK CUR                                '</td>\n",
       "      <td>b'    '</td>\n",
       "      <td>b'  '</td>\n",
       "      <td>b'            '</td>\n",
       "      <td>b'BLOOMINGTON                   '</td>\n",
       "      <td>...</td>\n",
       "      <td>b'271   '</td>\n",
       "      <td>b'Nine Mile Creek                             ...</td>\n",
       "      <td>b'N'</td>\n",
       "      <td>b'N'</td>\n",
       "      <td>b'N'</td>\n",
       "      <td>b'        '</td>\n",
       "      <td>b'        '</td>\n",
       "      <td>b'    0'</td>\n",
       "      <td>b' 1.37059494918e+003'</td>\n",
       "      <td>b' 1.48455136759e+002'</td>\n",
       "    </tr>\n",
       "    <tr>\n",
       "      <th>116219</th>\n",
       "      <td>b'053'</td>\n",
       "      <td>b'053-0711723110010'</td>\n",
       "      <td>b'850       '</td>\n",
       "      <td>b'  '</td>\n",
       "      <td>b'      '</td>\n",
       "      <td>b'WINDJAMMER LA                           '</td>\n",
       "      <td>b'    '</td>\n",
       "      <td>b'  '</td>\n",
       "      <td>b'            '</td>\n",
       "      <td>b'ORONO                         '</td>\n",
       "      <td>...</td>\n",
       "      <td>b'277   '</td>\n",
       "      <td>b'Minnehaha Creek                             ...</td>\n",
       "      <td>b'N'</td>\n",
       "      <td>b'N'</td>\n",
       "      <td>b'N'</td>\n",
       "      <td>b'        '</td>\n",
       "      <td>b'        '</td>\n",
       "      <td>b'    0'</td>\n",
       "      <td>b' 4.01852385439e+003'</td>\n",
       "      <td>b' 2.81325719840e+002'</td>\n",
       "    </tr>\n",
       "    <tr>\n",
       "      <th>141265</th>\n",
       "      <td>b'053'</td>\n",
       "      <td>b'053-2411921420119'</td>\n",
       "      <td>b'524       '</td>\n",
       "      <td>b'  '</td>\n",
       "      <td>b'      '</td>\n",
       "      <td>b'79TH AVE N                              '</td>\n",
       "      <td>b'    '</td>\n",
       "      <td>b'  '</td>\n",
       "      <td>b'            '</td>\n",
       "      <td>b'BROOKLYN PARK                 '</td>\n",
       "      <td>...</td>\n",
       "      <td>b'011   '</td>\n",
       "      <td>b'                                            ...</td>\n",
       "      <td>b'N'</td>\n",
       "      <td>b'N'</td>\n",
       "      <td>b'N'</td>\n",
       "      <td>b'        '</td>\n",
       "      <td>b'        '</td>\n",
       "      <td>b'    0'</td>\n",
       "      <td>b' 1.29208254158e+003'</td>\n",
       "      <td>b' 1.55105370980e+002'</td>\n",
       "    </tr>\n",
       "    <tr>\n",
       "      <th>377690</th>\n",
       "      <td>b'053'</td>\n",
       "      <td>b'053-0511821410051'</td>\n",
       "      <td>b'6612      '</td>\n",
       "      <td>b'  '</td>\n",
       "      <td>b'      '</td>\n",
       "      <td>b'57TH AVE N                              '</td>\n",
       "      <td>b'    '</td>\n",
       "      <td>b'  '</td>\n",
       "      <td>b'            '</td>\n",
       "      <td>b'CRYSTAL                       '</td>\n",
       "      <td>...</td>\n",
       "      <td>b'281   '</td>\n",
       "      <td>b'Shingle Creek                               ...</td>\n",
       "      <td>b'N'</td>\n",
       "      <td>b'N'</td>\n",
       "      <td>b'N'</td>\n",
       "      <td>b'        '</td>\n",
       "      <td>b'        '</td>\n",
       "      <td>b'    0'</td>\n",
       "      <td>b' 9.73842193280e+002'</td>\n",
       "      <td>b' 1.30943447173e+002'</td>\n",
       "    </tr>\n",
       "    <tr>\n",
       "      <th>6857</th>\n",
       "      <td>b'053'</td>\n",
       "      <td>b'053-0402824210184'</td>\n",
       "      <td>b'3120      '</td>\n",
       "      <td>b'  '</td>\n",
       "      <td>b'      '</td>\n",
       "      <td>b'HUMBOLDT AVE S                          '</td>\n",
       "      <td>b'    '</td>\n",
       "      <td>b'  '</td>\n",
       "      <td>b'4           '</td>\n",
       "      <td>b'MINNEAPOLIS                   '</td>\n",
       "      <td>...</td>\n",
       "      <td>b'001   '</td>\n",
       "      <td>b'Minnehaha Creek                             ...</td>\n",
       "      <td>b'N'</td>\n",
       "      <td>b'N'</td>\n",
       "      <td>b'N'</td>\n",
       "      <td>b'        '</td>\n",
       "      <td>b'        '</td>\n",
       "      <td>b'    0'</td>\n",
       "      <td>b' 5.46037831880e+002'</td>\n",
       "      <td>b' 1.06214538302e+002'</td>\n",
       "    </tr>\n",
       "  </tbody>\n",
       "</table>\n",
       "<p>5 rows × 67 columns</p>\n",
       "</div>"
      ],
      "text/plain": [
       "       COUNTY_ID                   PIN       BLDG_NUM PREFIX_DIR PREFIXTYPE  \\\n",
       "256758    b'053'  b'053-1702724310037'  b'9841      '      b'  '  b'      '   \n",
       "116219    b'053'  b'053-0711723110010'  b'850       '      b'  '  b'      '   \n",
       "141265    b'053'  b'053-2411921420119'  b'524       '      b'  '  b'      '   \n",
       "377690    b'053'  b'053-0511821410051'  b'6612      '      b'  '  b'      '   \n",
       "6857      b'053'  b'053-0402824210184'  b'3120      '      b'  '  b'      '   \n",
       "\n",
       "                                         STREETNAME STREETTYPE SUFFIX_DIR  \\\n",
       "256758  b'YORK CUR                                '    b'    '      b'  '   \n",
       "116219  b'WINDJAMMER LA                           '    b'    '      b'  '   \n",
       "141265  b'79TH AVE N                              '    b'    '      b'  '   \n",
       "377690  b'57TH AVE N                              '    b'    '      b'  '   \n",
       "6857    b'HUMBOLDT AVE S                          '    b'    '      b'  '   \n",
       "\n",
       "              UNIT_INFO                               CITY  \\\n",
       "256758  b'            '  b'BLOOMINGTON                   '   \n",
       "116219  b'            '  b'ORONO                         '   \n",
       "141265  b'            '  b'BROOKLYN PARK                 '   \n",
       "377690  b'            '  b'CRYSTAL                       '   \n",
       "6857    b'4           '  b'MINNEAPOLIS                   '   \n",
       "\n",
       "                 ...           SCHOOL_DST  \\\n",
       "256758           ...            b'271   '   \n",
       "116219           ...            b'277   '   \n",
       "141265           ...            b'011   '   \n",
       "377690           ...            b'281   '   \n",
       "6857             ...            b'001   '   \n",
       "\n",
       "                                                WSHD_DIST GREEN_ACRE  \\\n",
       "256758  b'Nine Mile Creek                             ...       b'N'   \n",
       "116219  b'Minnehaha Creek                             ...       b'N'   \n",
       "141265  b'                                            ...       b'N'   \n",
       "377690  b'Shingle Creek                               ...       b'N'   \n",
       "6857    b'Minnehaha Creek                             ...       b'N'   \n",
       "\n",
       "       OPEN_SPACE AG_PRESERV   AGPRE_ENRD   AGPRE_EXPD PARC_CODE  \\\n",
       "256758       b'N'       b'N'  b'        '  b'        '  b'    0'   \n",
       "116219       b'N'       b'N'  b'        '  b'        '  b'    0'   \n",
       "141265       b'N'       b'N'  b'        '  b'        '  b'    0'   \n",
       "377690       b'N'       b'N'  b'        '  b'        '  b'    0'   \n",
       "6857         b'N'       b'N'  b'        '  b'        '  b'    0'   \n",
       "\n",
       "                    Shape_area               Shape_len  \n",
       "256758  b' 1.37059494918e+003'  b' 1.48455136759e+002'  \n",
       "116219  b' 4.01852385439e+003'  b' 2.81325719840e+002'  \n",
       "141265  b' 1.29208254158e+003'  b' 1.55105370980e+002'  \n",
       "377690  b' 9.73842193280e+002'  b' 1.30943447173e+002'  \n",
       "6857    b' 5.46037831880e+002'  b' 1.06214538302e+002'  \n",
       "\n",
       "[5 rows x 67 columns]"
      ]
     },
     "execution_count": 19,
     "metadata": {},
     "output_type": "execute_result"
    }
   ],
   "source": [
    "df.sample(5)"
   ]
  },
  {
   "cell_type": "code",
   "execution_count": 15,
   "metadata": {
    "collapsed": false
   },
   "outputs": [
    {
     "data": {
      "text/plain": [
       "(429570, 67)"
      ]
     },
     "execution_count": 15,
     "metadata": {},
     "output_type": "execute_result"
    }
   ],
   "source": [
    "df.shape"
   ]
  },
  {
   "cell_type": "code",
   "execution_count": 24,
   "metadata": {
    "collapsed": false
   },
   "outputs": [
    {
     "data": {
      "text/html": [
       "<div>\n",
       "<table border=\"1\" class=\"dataframe\">\n",
       "  <thead>\n",
       "    <tr style=\"text-align: right;\">\n",
       "      <th></th>\n",
       "      <th>COUNTY_ID</th>\n",
       "      <th>PIN</th>\n",
       "      <th>BLDG_NUM</th>\n",
       "      <th>PREFIX_DIR</th>\n",
       "      <th>PREFIXTYPE</th>\n",
       "      <th>STREETNAME</th>\n",
       "      <th>STREETTYPE</th>\n",
       "      <th>SUFFIX_DIR</th>\n",
       "      <th>UNIT_INFO</th>\n",
       "      <th>CITY</th>\n",
       "      <th>...</th>\n",
       "      <th>SCHOOL_DST</th>\n",
       "      <th>WSHD_DIST</th>\n",
       "      <th>GREEN_ACRE</th>\n",
       "      <th>OPEN_SPACE</th>\n",
       "      <th>AG_PRESERV</th>\n",
       "      <th>AGPRE_ENRD</th>\n",
       "      <th>AGPRE_EXPD</th>\n",
       "      <th>PARC_CODE</th>\n",
       "      <th>Shape_area</th>\n",
       "      <th>Shape_len</th>\n",
       "    </tr>\n",
       "  </thead>\n",
       "  <tbody>\n",
       "  </tbody>\n",
       "</table>\n",
       "<p>0 rows × 67 columns</p>\n",
       "</div>"
      ],
      "text/plain": [
       "Empty DataFrame\n",
       "Columns: [COUNTY_ID, PIN, BLDG_NUM, PREFIX_DIR, PREFIXTYPE, STREETNAME, STREETTYPE, SUFFIX_DIR, UNIT_INFO, CITY, CITY_USPS, ZIP, ZIP4, PLAT_NAME, BLOCK, LOT, ACRES_POLY, ACRES_DEED, USE1_DESC, USE2_DESC, USE3_DESC, USE4_DESC, MULTI_USES, LANDMARK, OWNER_NAME, OWNER_MORE, OWN_ADD_L1, OWN_ADD_L2, OWN_ADD_L3, TAX_NAME, TAX_ADD_L1, TAX_ADD_L2, TAX_ADD_L3, HOMESTEAD, EMV_LAND, EMV_BLDG, EMV_TOTAL, TAX_CAPAC, TOTAL_TAX, SPEC_ASSES, TAX_EXEMPT, XUSE1_DESC, XUSE2_DESC, XUSE3_DESC, XUSE4_DESC, DWELL_TYPE, HOME_STYLE, FIN_SQ_FT, GARAGE, GARAGESQFT, BASEMENT, HEATING, COOLING, YEAR_BUILT, NUM_UNITS, SALE_DATE, SALE_VALUE, SCHOOL_DST, WSHD_DIST, GREEN_ACRE, OPEN_SPACE, AG_PRESERV, AGPRE_ENRD, AGPRE_EXPD, PARC_CODE, Shape_area, Shape_len]\n",
       "Index: []\n",
       "\n",
       "[0 rows x 67 columns]"
      ]
     },
     "execution_count": 24,
     "metadata": {},
     "output_type": "execute_result"
    }
   ],
   "source": [
    "df[df['STREETNAME'] == 'WINDJAMMER LA']"
   ]
  },
  {
   "cell_type": "code",
   "execution_count": null,
   "metadata": {
    "collapsed": true
   },
   "outputs": [],
   "source": []
  }
 ],
 "metadata": {
  "anaconda-cloud": {},
  "kernelspec": {
   "display_name": "Python [conda env:py35]",
   "language": "python",
   "name": "conda-env-py35-py"
  },
  "language_info": {
   "codemirror_mode": {
    "name": "ipython",
    "version": 3
   },
   "file_extension": ".py",
   "mimetype": "text/x-python",
   "name": "python",
   "nbconvert_exporter": "python",
   "pygments_lexer": "ipython3",
   "version": "3.5.2"
  }
 },
 "nbformat": 4,
 "nbformat_minor": 1
}
