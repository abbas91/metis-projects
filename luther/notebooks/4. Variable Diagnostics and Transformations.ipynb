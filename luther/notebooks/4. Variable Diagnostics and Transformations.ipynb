{
 "cells": [
  {
   "cell_type": "code",
   "execution_count": 58,
   "metadata": {
    "collapsed": true
   },
   "outputs": [],
   "source": [
    "%matplotlib inline\n",
    "\n",
    "from __future__ import print_function\n",
    "from statsmodels.compat import lzip\n",
    "import statsmodels\n",
    "import numpy as np\n",
    "import pandas as pd\n",
    "import statsmodels.api as sm\n",
    "import statsmodels.formula.api as smf\n",
    "import statsmodels.stats.api as sms\n",
    "import matplotlib.pyplot as plt\n",
    "from scipy import stats\n",
    "\n",
    "from statsmodels.stats.outliers_influence import OLSInfluence"
   ]
  },
  {
   "cell_type": "code",
   "execution_count": 20,
   "metadata": {
    "collapsed": true
   },
   "outputs": [],
   "source": [
    "# R2: SSE/SSS is\tthe\tportion\tof variation explained by the model\t\n",
    "\n",
    "# Prob (F-statisic): If p-value < 0.05, we\tcan\treject the null\thypothesis.\n",
    "\n",
    "# P >|t|:\tif\tp-value\t< 0.05, we can reject the null hypothesis: This variable does contribute to this model\n",
    "\n",
    "# Prob(Omnibus): The p-value for this  test. If  p-value < 0.05, we  reject  the null  hypothesis: \n",
    "# ε does  not exactly follow  the normal  distribution that  we  assumed. \n",
    "\n",
    "# Prob(Omnibus):  The p-value for this  test.     \n",
    "\n",
    "# Jaque Beara: Normality Test\n",
    "\n",
    "# Prob(JB) Null  hypothesis:  ε is  normally  distributed. \n",
    "\n",
    "# Skewness and Kurtosis: Idea is we  are looking for a skewness coeff.  ~ 0,  and Kurtosis  ~ 3. JB  tests if  those conditions are held  against alternatives.  \n",
    "\n",
    "# Condition Number: Note  that  is  the condi<on  number  becomes quite large,  then  this  implies that  the matrix  is  ill-posed   (does not have  a unique, well-defined  solution). This  may be  due to  multicollinear relationships  between independent variables."
   ]
  },
  {
   "cell_type": "code",
   "execution_count": 50,
   "metadata": {
    "collapsed": false
   },
   "outputs": [
    {
     "name": "stdout",
     "output_type": "stream",
     "text": [
      "<class 'pandas.core.frame.DataFrame'>\n",
      "Int64Index: 390 entries, 0 to 743\n",
      "Data columns (total 21 columns):\n",
      "energy_star_score                          390 non-null int64\n",
      "building_floor_area                        390 non-null int64\n",
      "parking_floor_area                         390 non-null int64\n",
      "total_ghg_emissions                        390 non-null int64\n",
      "site_eui                                   390 non-null int64\n",
      "weather_normalized_site_eui                390 non-null int64\n",
      "source_eui                                 390 non-null int64\n",
      "weather_normalized_source_eui              390 non-null int64\n",
      "water_use                                  390 non-null int64\n",
      "property_id                                390 non-null int64\n",
      "EMV_TOTAL                                  390 non-null float64\n",
      "TAX_CAPAC                                  390 non-null float64\n",
      "TOTAL_TAX                                  390 non-null float64\n",
      "FIN_SQ_FT                                  390 non-null int64\n",
      "YEAR_BUILT                                 390 non-null int64\n",
      "est_val_per_sqft                           390 non-null float64\n",
      "Intercept                                  390 non-null float64\n",
      "USE1_DESC[T.Condo Garage/Miscellaneous]    390 non-null float64\n",
      "USE1_DESC[T.Cooperative]                   390 non-null float64\n",
      "USE1_DESC[T.Industrial]                    390 non-null float64\n",
      "USE1_DESC[T.Other]                         390 non-null float64\n",
      "dtypes: float64(9), int64(12)\n",
      "memory usage: 67.0 KB\n"
     ]
    }
   ],
   "source": [
    "# Load the data in\n",
    "import pickle\n",
    "\n",
    "with open(\"../data/processed/0202_all_data_wdummy.pkl\", 'rb') as picklefile: \n",
    "    df = pickle.load(picklefile)\n",
    "\n",
    "df.info()"
   ]
  },
  {
   "cell_type": "code",
   "execution_count": 51,
   "metadata": {
    "collapsed": false
   },
   "outputs": [
    {
     "data": {
      "text/html": [
       "<table class=\"simpletable\">\n",
       "<caption>OLS Regression Results</caption>\n",
       "<tr>\n",
       "  <th>Dep. Variable:</th>    <td>energy_star_score</td> <th>  R-squared:         </th> <td>   0.773</td> \n",
       "</tr>\n",
       "<tr>\n",
       "  <th>Model:</th>                   <td>OLS</td>        <th>  Adj. R-squared:    </th> <td>   0.762</td> \n",
       "</tr>\n",
       "<tr>\n",
       "  <th>Method:</th>             <td>Least Squares</td>   <th>  F-statistic:       </th> <td>   70.04</td> \n",
       "</tr>\n",
       "<tr>\n",
       "  <th>Date:</th>             <td>Thu, 02 Feb 2017</td>  <th>  Prob (F-statistic):</th> <td>2.55e-107</td>\n",
       "</tr>\n",
       "<tr>\n",
       "  <th>Time:</th>                 <td>21:36:29</td>      <th>  Log-Likelihood:    </th> <td> -1636.5</td> \n",
       "</tr>\n",
       "<tr>\n",
       "  <th>No. Observations:</th>      <td>   390</td>       <th>  AIC:               </th> <td>   3311.</td> \n",
       "</tr>\n",
       "<tr>\n",
       "  <th>Df Residuals:</th>          <td>   371</td>       <th>  BIC:               </th> <td>   3386.</td> \n",
       "</tr>\n",
       "<tr>\n",
       "  <th>Df Model:</th>              <td>    18</td>       <th>                     </th>     <td> </td>    \n",
       "</tr>\n",
       "<tr>\n",
       "  <th>Covariance Type:</th>      <td>nonrobust</td>     <th>                     </th>     <td> </td>    \n",
       "</tr>\n",
       "</table>\n",
       "<table class=\"simpletable\">\n",
       "<tr>\n",
       "                     <td></td>                        <th>coef</th>     <th>std err</th>      <th>t</th>      <th>P>|t|</th> <th>[95.0% Conf. Int.]</th> \n",
       "</tr>\n",
       "<tr>\n",
       "  <th>building_floor_area</th>                     <td> 7.088e-05</td> <td> 9.48e-06</td> <td>    7.476</td> <td> 0.000</td> <td> 5.22e-05  8.95e-05</td>\n",
       "</tr>\n",
       "<tr>\n",
       "  <th>parking_floor_area</th>                      <td> 2.913e-05</td> <td> 1.54e-05</td> <td>    1.890</td> <td> 0.060</td> <td>-1.18e-06  5.94e-05</td>\n",
       "</tr>\n",
       "<tr>\n",
       "  <th>total_ghg_emissions</th>                     <td>   -0.0014</td> <td>    0.001</td> <td>   -1.501</td> <td> 0.134</td> <td>   -0.003     0.000</td>\n",
       "</tr>\n",
       "<tr>\n",
       "  <th>site_eui</th>                                <td>   -0.3182</td> <td>    0.659</td> <td>   -0.483</td> <td> 0.629</td> <td>   -1.613     0.977</td>\n",
       "</tr>\n",
       "<tr>\n",
       "  <th>weather_normalized_site_eui</th>             <td>    0.2627</td> <td>    0.628</td> <td>    0.418</td> <td> 0.676</td> <td>   -0.973     1.499</td>\n",
       "</tr>\n",
       "<tr>\n",
       "  <th>source_eui</th>                              <td>    0.0800</td> <td>    0.336</td> <td>    0.238</td> <td> 0.812</td> <td>   -0.580     0.740</td>\n",
       "</tr>\n",
       "<tr>\n",
       "  <th>weather_normalized_source_eui</th>           <td>   -0.1979</td> <td>    0.326</td> <td>   -0.608</td> <td> 0.544</td> <td>   -0.838     0.442</td>\n",
       "</tr>\n",
       "<tr>\n",
       "  <th>water_use</th>                               <td>   -0.0019</td> <td>    0.000</td> <td>   -6.224</td> <td> 0.000</td> <td>   -0.003    -0.001</td>\n",
       "</tr>\n",
       "<tr>\n",
       "  <th>property_id</th>                             <td> 1.842e-11</td> <td> 1.78e-12</td> <td>   10.325</td> <td> 0.000</td> <td> 1.49e-11  2.19e-11</td>\n",
       "</tr>\n",
       "<tr>\n",
       "  <th>EMV_TOTAL</th>                               <td>-9.684e-07</td> <td> 1.09e-06</td> <td>   -0.888</td> <td> 0.375</td> <td>-3.11e-06  1.18e-06</td>\n",
       "</tr>\n",
       "<tr>\n",
       "  <th>TAX_CAPAC</th>                               <td>    0.0002</td> <td>    0.000</td> <td>    0.734</td> <td> 0.464</td> <td>   -0.000     0.001</td>\n",
       "</tr>\n",
       "<tr>\n",
       "  <th>TOTAL_TAX</th>                               <td>-7.375e-05</td> <td>    0.000</td> <td>   -0.618</td> <td> 0.537</td> <td>   -0.000     0.000</td>\n",
       "</tr>\n",
       "<tr>\n",
       "  <th>FIN_SQ_FT</th>                               <td>-2.093e-15</td> <td> 4.34e-15</td> <td>   -0.482</td> <td> 0.630</td> <td>-1.06e-14  6.44e-15</td>\n",
       "</tr>\n",
       "<tr>\n",
       "  <th>YEAR_BUILT</th>                              <td>    0.0003</td> <td>    0.003</td> <td>    0.095</td> <td> 0.924</td> <td>   -0.005     0.005</td>\n",
       "</tr>\n",
       "<tr>\n",
       "  <th>est_val_per_sqft</th>                        <td>    0.1063</td> <td>    0.035</td> <td>    3.002</td> <td> 0.003</td> <td>    0.037     0.176</td>\n",
       "</tr>\n",
       "<tr>\n",
       "  <th>Intercept</th>                               <td>   43.2166</td> <td>    7.441</td> <td>    5.808</td> <td> 0.000</td> <td>   28.585    57.848</td>\n",
       "</tr>\n",
       "<tr>\n",
       "  <th>USE1_DESC[T.Condo Garage/Miscellaneous]</th> <td>  -13.8552</td> <td>    2.728</td> <td>   -5.079</td> <td> 0.000</td> <td>  -19.219    -8.491</td>\n",
       "</tr>\n",
       "<tr>\n",
       "  <th>USE1_DESC[T.Cooperative]</th>                <td>   18.2494</td> <td>    4.084</td> <td>    4.469</td> <td> 0.000</td> <td>   10.219    26.280</td>\n",
       "</tr>\n",
       "<tr>\n",
       "  <th>USE1_DESC[T.Industrial]</th>                 <td>    5.0443</td> <td>    8.570</td> <td>    0.589</td> <td> 0.556</td> <td>  -11.808    21.897</td>\n",
       "</tr>\n",
       "<tr>\n",
       "  <th>USE1_DESC[T.Other]</th>                      <td>    2.5188</td> <td>    6.201</td> <td>    0.406</td> <td> 0.685</td> <td>   -9.675    14.713</td>\n",
       "</tr>\n",
       "</table>\n",
       "<table class=\"simpletable\">\n",
       "<tr>\n",
       "  <th>Omnibus:</th>       <td>110.056</td> <th>  Durbin-Watson:     </th> <td>   1.704</td>\n",
       "</tr>\n",
       "<tr>\n",
       "  <th>Prob(Omnibus):</th> <td> 0.000</td>  <th>  Jarque-Bera (JB):  </th> <td>1506.408</td>\n",
       "</tr>\n",
       "<tr>\n",
       "  <th>Skew:</th>          <td> 0.768</td>  <th>  Prob(JB):          </th> <td>    0.00</td>\n",
       "</tr>\n",
       "<tr>\n",
       "  <th>Kurtosis:</th>      <td>12.505</td>  <th>  Cond. No.          </th> <td>1.90e+28</td>\n",
       "</tr>\n",
       "</table>"
      ],
      "text/plain": [
       "<class 'statsmodels.iolib.summary.Summary'>\n",
       "\"\"\"\n",
       "                            OLS Regression Results                            \n",
       "==============================================================================\n",
       "Dep. Variable:      energy_star_score   R-squared:                       0.773\n",
       "Model:                            OLS   Adj. R-squared:                  0.762\n",
       "Method:                 Least Squares   F-statistic:                     70.04\n",
       "Date:                Thu, 02 Feb 2017   Prob (F-statistic):          2.55e-107\n",
       "Time:                        21:36:29   Log-Likelihood:                -1636.5\n",
       "No. Observations:                 390   AIC:                             3311.\n",
       "Df Residuals:                     371   BIC:                             3386.\n",
       "Df Model:                          18                                         \n",
       "Covariance Type:            nonrobust                                         \n",
       "===========================================================================================================\n",
       "                                              coef    std err          t      P>|t|      [95.0% Conf. Int.]\n",
       "-----------------------------------------------------------------------------------------------------------\n",
       "building_floor_area                      7.088e-05   9.48e-06      7.476      0.000      5.22e-05  8.95e-05\n",
       "parking_floor_area                       2.913e-05   1.54e-05      1.890      0.060     -1.18e-06  5.94e-05\n",
       "total_ghg_emissions                        -0.0014      0.001     -1.501      0.134        -0.003     0.000\n",
       "site_eui                                   -0.3182      0.659     -0.483      0.629        -1.613     0.977\n",
       "weather_normalized_site_eui                 0.2627      0.628      0.418      0.676        -0.973     1.499\n",
       "source_eui                                  0.0800      0.336      0.238      0.812        -0.580     0.740\n",
       "weather_normalized_source_eui              -0.1979      0.326     -0.608      0.544        -0.838     0.442\n",
       "water_use                                  -0.0019      0.000     -6.224      0.000        -0.003    -0.001\n",
       "property_id                              1.842e-11   1.78e-12     10.325      0.000      1.49e-11  2.19e-11\n",
       "EMV_TOTAL                               -9.684e-07   1.09e-06     -0.888      0.375     -3.11e-06  1.18e-06\n",
       "TAX_CAPAC                                   0.0002      0.000      0.734      0.464        -0.000     0.001\n",
       "TOTAL_TAX                               -7.375e-05      0.000     -0.618      0.537        -0.000     0.000\n",
       "FIN_SQ_FT                               -2.093e-15   4.34e-15     -0.482      0.630     -1.06e-14  6.44e-15\n",
       "YEAR_BUILT                                  0.0003      0.003      0.095      0.924        -0.005     0.005\n",
       "est_val_per_sqft                            0.1063      0.035      3.002      0.003         0.037     0.176\n",
       "Intercept                                  43.2166      7.441      5.808      0.000        28.585    57.848\n",
       "USE1_DESC[T.Condo Garage/Miscellaneous]   -13.8552      2.728     -5.079      0.000       -19.219    -8.491\n",
       "USE1_DESC[T.Cooperative]                   18.2494      4.084      4.469      0.000        10.219    26.280\n",
       "USE1_DESC[T.Industrial]                     5.0443      8.570      0.589      0.556       -11.808    21.897\n",
       "USE1_DESC[T.Other]                          2.5188      6.201      0.406      0.685        -9.675    14.713\n",
       "==============================================================================\n",
       "Omnibus:                      110.056   Durbin-Watson:                   1.704\n",
       "Prob(Omnibus):                  0.000   Jarque-Bera (JB):             1506.408\n",
       "Skew:                           0.768   Prob(JB):                         0.00\n",
       "Kurtosis:                      12.505   Cond. No.                     1.90e+28\n",
       "==============================================================================\n",
       "\n",
       "Warnings:\n",
       "[1] Standard Errors assume that the covariance matrix of the errors is correctly specified.\n",
       "[2] The smallest eigenvalue is 6.96e-30. This might indicate that there are\n",
       "strong multicollinearity problems or that the design matrix is singular.\n",
       "\"\"\""
      ]
     },
     "execution_count": 51,
     "metadata": {},
     "output_type": "execute_result"
    }
   ],
   "source": [
    "# Fit regression model \n",
    "\n",
    "X = df.ix[:,1:]\n",
    "y = df['energy_star_score']\n",
    "\n",
    "results = sm.OLS(y,X).fit()\n",
    "# Inspect the results\n",
    "results.summary()"
   ]
  },
  {
   "cell_type": "code",
   "execution_count": 52,
   "metadata": {
    "collapsed": false
   },
   "outputs": [
    {
     "data": {
      "text/plain": [
       "<matplotlib.axes._subplots.AxesSubplot at 0x1136d5eb8>"
      ]
     },
     "execution_count": 52,
     "metadata": {},
     "output_type": "execute_result"
    },
    {
     "data": {
      "image/png": "[encoded data removed]",
      "text/plain": [
       "<matplotlib.figure.Figure at 0x112e03be0>"
      ]
     },
     "metadata": {},
     "output_type": "display_data"
    }
   ],
   "source": [
    "# Plot the residuals\n",
    "\n",
    "results.resid.plot(style='o')"
   ]
  },
  {
   "cell_type": "code",
   "execution_count": 55,
   "metadata": {
    "collapsed": false
   },
   "outputs": [
    {
     "data": {
      "image/png": "[encoded data removed]",
      "text/plain": [
       "<matplotlib.figure.Figure at 0x113a53080>"
      ]
     },
     "metadata": {},
     "output_type": "display_data"
    }
   ],
   "source": [
    "# Plot the target variable histogram\n",
    "\n",
    "df.energy_star_score.plot(kind='hist');"
   ]
  },
  {
   "cell_type": "code",
   "execution_count": 64,
   "metadata": {
    "collapsed": false
   },
   "outputs": [
    {
     "data": {
      "image/png": "[encoded data removed]",
      "text/plain": [
       "<matplotlib.figure.Figure at 0x113c788d0>"
      ]
     },
     "metadata": {},
     "output_type": "display_data"
    }
   ],
   "source": [
    "# Attempted a Boxcox transformation?\n",
    "\n",
    "fig = plt.figure()\n",
    "ax1 = fig.add_subplot(211)\n",
    "x = df['energy_star_score']\n",
    "prob = stats.probplot(x, dist=stats.norm, plot=ax1)\n",
    "ax1.set_xlabel('')\n",
    "ax1.set_title('Probplot Before and After Boxcox Transformation')\n",
    "\n",
    "ax2 = fig.add_subplot(212)\n",
    "xt, _ = stats.boxcox(x)\n",
    "prob = stats.probplot(xt, dist=stats.norm, plot=ax2)\n",
    "\n",
    "plt.show()"
   ]
  },
  {
   "cell_type": "code",
   "execution_count": null,
   "metadata": {
    "collapsed": true
   },
   "outputs": [],
   "source": [
    "def variable_diagnostics(var):\n",
    "    # Normality of the residuals, Jarque-Bera test\n",
    "    name = ['Jarque-Bera', 'Chi^2 two-tail prob.', 'Skew', 'Kurtosis']\n",
    "    test = sms.jarque_bera(results.resid)\n",
    "    lzip(name, test)\n",
    "    \n",
    "    # Influence\n",
    "    test_class = OLSInfluence(results)\n",
    "    test_class.dfbetas[:5,:]\n",
    "    \n",
    "    # Multicolinearity, conditional number\n",
    "    np.linalg.cond(results.model.exog)\n",
    "    \n",
    "    # Heteroskedasticity, Breush-Pagan test:    \n",
    "    name = ['Lagrange multiplier statistic', 'p-value', \n",
    "            'f-value', 'f p-value']\n",
    "    test = sms.het_breushpagan(results.resid, results.model.exog)\n",
    "    lzip(name, test)\n",
    "    \n",
    "    # Linearity, \n",
    "    name = ['t value', 'p value']\n",
    "    test = sms.linear_harvey_collier(results)\n",
    "    lzip(name, test)"
   ]
  },
  {
   "cell_type": "code",
   "execution_count": null,
   "metadata": {
    "collapsed": true
   },
   "outputs": [],
   "source": [
    "def diagnostic_plot(x, y):\n",
    "    plt.figure(figsize=(20,5))\n",
    "    \n",
    "    rgr = LinearRegression()\n",
    "    rgr.fit(x.reshape(s,1),y)\n",
    "    pred = rgr.predict(x.reshape(s,1))\n",
    "\n",
    "    plt.subplot(1, 3, 1)\n",
    "    plt.scatter(x,y)\n",
    "    plt.plot(x, pred, color='blue',linewidth=1)\n",
    "    plt.title(\"Regression fit\")\n",
    "    \n",
    "    plt.subplot(1, 3, 2)\n",
    "    res = y - pred\n",
    "    plt.scatter(pred, res)\n",
    "    plt.title(\"Residual plot\")\n",
    "    \n",
    "    plt.subplot(1, 3, 3)\n",
    "    z = (res-np.mean(res))/np.std(res)\n",
    "    stats.probplot(z, dist=\"norm\", plot=plt)\n",
    "    plt.title(\"Normal Q-Q plot\")"
   ]
  },
  {
   "cell_type": "code",
   "execution_count": 61,
   "metadata": {
    "collapsed": false
   },
   "outputs": [
    {
     "data": {
      "text/plain": [
       "[('Jarque-Bera', 1506.4084717330363),\n",
       " ('Chi^2 two-tail prob.', 0.0),\n",
       " ('Skew', 0.7679884225831901),\n",
       " ('Kurtosis', 12.504884793098169)]"
      ]
     },
     "execution_count": 61,
     "metadata": {},
     "output_type": "execute_result"
    }
   ],
   "source": [
    "# Normality of the residuals, Jarque-Bera test\n",
    "name = ['Jarque-Bera', 'Chi^2 two-tail prob.', 'Skew', 'Kurtosis']\n",
    "test = sms.jarque_bera(results.resid)\n",
    "lzip(name, test)"
   ]
  },
  {
   "cell_type": "code",
   "execution_count": 62,
   "metadata": {
    "collapsed": false
   },
   "outputs": [
    {
     "data": {
      "text/plain": [
       "array([[  1.10307323e-03,   1.05699184e-01,  -8.71869775e-02,\n",
       "         -1.86780572e-02,   1.11934093e-02,   1.99840152e-02,\n",
       "         -1.00489135e-02,   5.18945788e-02,   1.01607133e-01,\n",
       "          1.77549642e-02,  -1.07453661e-01,   1.12059211e-01,\n",
       "         -3.76990533e+00,   4.41501396e-02,  -4.78235814e-01,\n",
       "         -7.80772357e-02,  -5.51393678e-02,  -2.49312700e-02,\n",
       "          9.67382971e-03,  -5.14239152e-03],\n",
       "       [  2.71247742e-03,  -3.04039113e-03,   1.81345114e-06,\n",
       "         -1.48583077e-04,   2.88504300e-04,   4.95017056e-04,\n",
       "         -4.65083540e-04,   8.20140207e-04,  -3.41959802e-04,\n",
       "         -1.33310343e-05,  -6.05124945e-05,   3.79657204e-05,\n",
       "          7.39082645e+00,  -2.03948236e-03,   3.39208988e-03,\n",
       "         -2.32229921e-03,   1.82364257e-03,   4.41324763e-03,\n",
       "          7.51954207e-04,   1.95030990e-03],\n",
       "       [  1.27739557e-03,   2.10549378e-03,  -2.64993407e-03,\n",
       "         -1.01947970e-03,   1.04480903e-03,   1.11888284e-03,\n",
       "         -1.06494761e-03,   4.56820474e-04,   9.46903900e-04,\n",
       "         -6.39087385e-03,   5.57434182e-04,   8.86636980e-04,\n",
       "         -5.64316074e-01,   1.15010276e-03,  -4.67344431e-03,\n",
       "         -1.45442904e-03,  -9.71397583e-04,  -1.71411035e-02,\n",
       "         -8.43971591e-05,   1.38818363e-04],\n",
       "       [  2.90321013e-06,   4.78905473e-06,  -6.02523148e-06,\n",
       "         -2.31934317e-06,   2.37699278e-06,   2.54523295e-06,\n",
       "         -2.42257391e-06,   1.03639172e-06,  -1.94725701e-04,\n",
       "         -1.45277638e-05,   1.25716204e-06,   2.02594210e-06,\n",
       "         -5.95571040e+00,   2.60430334e-06,  -1.06212954e-05,\n",
       "         -3.30038086e-06,  -2.20161552e-06,   7.86011638e-04,\n",
       "         -1.90145022e-07,   3.16683013e-07],\n",
       "       [  2.90321004e-06,   4.78905051e-06,  -6.02523206e-06,\n",
       "         -2.31934362e-06,   2.37699322e-06,   2.54523323e-06,\n",
       "         -2.42257419e-06,   1.03639157e-06,  -4.31399890e-04,\n",
       "         -1.45281829e-05,   1.25716189e-06,   2.02594307e-06,\n",
       "          1.64477010e+00,   2.60430545e-06,  -1.06212956e-05,\n",
       "         -3.30038085e-06,  -2.20161553e-06,   7.86011638e-04,\n",
       "         -1.90145023e-07,   3.16683009e-07]])"
      ]
     },
     "execution_count": 62,
     "metadata": {},
     "output_type": "execute_result"
    }
   ],
   "source": [
    "# Influence\n",
    "test_class = OLSInfluence(results)\n",
    "test_class.dfbetas[:5,:]"
   ]
  },
  {
   "cell_type": "code",
   "execution_count": 63,
   "metadata": {
    "collapsed": false
   },
   "outputs": [
    {
     "data": {
      "text/plain": [
       "1.9009981819608515e+28"
      ]
     },
     "execution_count": 63,
     "metadata": {},
     "output_type": "execute_result"
    }
   ],
   "source": [
    "# Multicolinearity, conditional number\n",
    "np.linalg.cond(results.model.exog)"
   ]
  },
  {
   "cell_type": "code",
   "execution_count": 8,
   "metadata": {
    "collapsed": false
   },
   "outputs": [
    {
     "data": {
      "text/plain": [
       "[('Lagrange multiplier statistic', 5.0290173920442935),\n",
       " ('p-value', 0.024926036289390364),\n",
       " ('f-value', 5.0494103945840205),\n",
       " ('f p-value', 0.024924320539551424)]"
      ]
     },
     "execution_count": 8,
     "metadata": {},
     "output_type": "execute_result"
    }
   ],
   "source": [
    "# Heteroskedasticity, Breush-Pagan test:\n",
    "name = ['Lagrange multiplier statistic', 'p-value', \n",
    "            'f-value', 'f p-value']\n",
    "test = sms.het_breushpagan(results.resid, results.model.exog)\n",
    "lzip(name, test)"
   ]
  },
  {
   "cell_type": "code",
   "execution_count": 7,
   "metadata": {
    "collapsed": false
   },
   "outputs": [
    {
     "data": {
      "text/plain": [
       "[('t value', -6.121436404489101), ('p value', 1.4962191082016787e-09)]"
      ]
     },
     "execution_count": 7,
     "metadata": {},
     "output_type": "execute_result"
    }
   ],
   "source": [
    "name = ['t value', 'p value']\n",
    "test = sms.linear_harvey_collier(results)\n",
    "lzip(name, test)"
   ]
  },
  {
   "cell_type": "code",
   "execution_count": 53,
   "metadata": {
    "collapsed": true
   },
   "outputs": [],
   "source": [
    "with open('../data/processed/0202_all_data_transf.pkl', 'wb') as picklefile:\n",
    "    pickle.dump(df, picklefile)"
   ]
  },
  {
   "cell_type": "code",
   "execution_count": null,
   "metadata": {
    "collapsed": true
   },
   "outputs": [],
   "source": []
  }
 ],
 "metadata": {
  "kernelspec": {
   "display_name": "Python [conda env:py35]",
   "language": "python",
   "name": "conda-env-py35-py"
  },
  "language_info": {
   "codemirror_mode": {
    "name": "ipython",
    "version": 3
   },
   "file_extension": ".py",
   "mimetype": "text/x-python",
   "name": "python",
   "nbconvert_exporter": "python",
   "pygments_lexer": "ipython3",
   "version": "3.5.2"
  }
 },
 "nbformat": 4,
 "nbformat_minor": 1
}
